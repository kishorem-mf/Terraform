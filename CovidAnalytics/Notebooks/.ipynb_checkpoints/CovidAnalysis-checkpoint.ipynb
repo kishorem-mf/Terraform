{
 "cells": [
  {
   "cell_type": "code",
   "execution_count": 2,
   "id": "31129682-e575-408e-b7ac-1043fa81d59f",
   "metadata": {},
   "outputs": [
    {
     "data": {
      "application/vnd.jupyter.widget-view+json": {
       "model_id": "",
       "version_major": 2,
       "version_minor": 0
      },
      "text/plain": [
       "FloatProgress(value=0.0, bar_style='info', description='Progress:', layout=Layout(height='25px', width='50%'),…"
      ]
     },
     "metadata": {},
     "output_type": "display_data"
    }
   ],
   "source": [
    "import boto3, json\n",
    "from awsglue.context import GlueContext\n",
    "from pyspark.context import SparkContext\n",
    "import boto3\n",
    "import json\n",
    "from datetime import datetime, date"
   ]
  },
  {
   "cell_type": "code",
   "execution_count": 12,
   "id": "9b541064-157e-4d8c-bc3a-1554967f32ca",
   "metadata": {},
   "outputs": [
    {
     "data": {
      "application/vnd.jupyter.widget-view+json": {
       "model_id": "",
       "version_major": 2,
       "version_minor": 0
      },
      "text/plain": [
       "FloatProgress(value=0.0, bar_style='info', description='Progress:', layout=Layout(height='25px', width='50%'),…"
      ]
     },
     "metadata": {},
     "output_type": "display_data"
    },
    {
     "name": "stdout",
     "output_type": "stream",
     "text": [
      "{'ResponseMetadata': {'RequestId': '4J4H02TPS0QHW9M2', 'HostId': 'yss7WSxc7G7QqseVWqnuWP3T5tDTjE8ubwFwv1IqSfWCL0kmOCFR1k/GFXXfsmrM8ljdhBqU3Io=', 'HTTPStatusCode': 200, 'HTTPHeaders': {'x-amz-id-2': 'yss7WSxc7G7QqseVWqnuWP3T5tDTjE8ubwFwv1IqSfWCL0kmOCFR1k/GFXXfsmrM8ljdhBqU3Io=', 'x-amz-request-id': '4J4H02TPS0QHW9M2', 'date': 'Wed, 28 Feb 2024 02:57:29 GMT', 'content-type': 'application/xml', 'transfer-encoding': 'chunked', 'server': 'AmazonS3'}, 'RetryAttempts': 0}, 'Buckets': [{'Name': 'covid-data-16091988', 'CreationDate': datetime.datetime(2024, 2, 16, 9, 38, 7, tzinfo=tzlocal())}, {'Name': 'kishore-data-uploads', 'CreationDate': datetime.datetime(2024, 2, 12, 14, 57, 14, tzinfo=tzlocal())}, {'Name': 'kishore-test-160988', 'CreationDate': datetime.datetime(2024, 1, 31, 9, 46, 13, tzinfo=tzlocal())}], 'Owner': {'ID': '6dcb533b7d7e2e1d4e611a97a8818f3867795983c9cc37f3240ef02817c74ace'}}"
     ]
    }
   ],
   "source": [
    "# # Create GlueContext and SparkContext\n",
    "# sc = SparkContext()\n",
    "# glueContext = GlueContext(sc)\n",
    "\n",
    "# # Create a Boto3 S3 client\n",
    "s3_client = boto3.client('s3')\n",
    "\n",
    "# # Get the list of all S3 buckets\n",
    "response = s3_client.list_buckets()\n",
    "print(response)\n",
    "# buckets = [bucket['Name'] for bucket in response['Buckets']]\n",
    "\n",
    "# # Print the list of buckets\n",
    "# print(\"List of S3 Buckets:\")\n",
    "# for bucket in buckets:\n",
    "#     print(bucket)"
   ]
  },
  {
   "cell_type": "code",
   "execution_count": 4,
   "id": "049739c2-a5c8-4429-a50e-b4d8f27329b3",
   "metadata": {},
   "outputs": [
    {
     "data": {
      "application/vnd.jupyter.widget-view+json": {
       "model_id": "",
       "version_major": 2,
       "version_minor": 0
      },
      "text/plain": [
       "FloatProgress(value=0.0, bar_style='info', description='Progress:', layout=Layout(height='25px', width='50%'),…"
      ]
     },
     "metadata": {},
     "output_type": "display_data"
    },
    {
     "name": "stdout",
     "output_type": "stream",
     "text": [
      "[\n",
      "  {\n",
      "    \"Key\": \"csv/india-data/covid_19_india.csv\",\n",
      "    \"LastModified\": \"2024-02-16 12:05:30\",\n",
      "    \"Size\": 1005449,\n",
      "    \"StorageClass\": \"STANDARD\"\n",
      "  },\n",
      "  {\n",
      "    \"Key\": \"csv/testing-details/StatewiseTestingDetails.csv\",\n",
      "    \"LastModified\": \"2024-02-16 09:41:28\",\n",
      "    \"Size\": 622938,\n",
      "    \"StorageClass\": \"STANDARD\"\n",
      "  },\n",
      "  {\n",
      "    \"Key\": \"csv/vaccine-data/covid_vaccine_statewise.csv\",\n",
      "    \"LastModified\": \"2024-02-16 09:43:02\",\n",
      "    \"Size\": 1108819,\n",
      "    \"StorageClass\": \"STANDARD\"\n",
      "  },\n",
      "  {\n",
      "    \"Key\": \"glue/scripts/CovidDataProcessing.py\",\n",
      "    \"LastModified\": \"2024-02-26 15:10:58\",\n",
      "    \"Size\": 2197,\n",
      "    \"StorageClass\": \"STANDARD\"\n",
      "  }\n",
      "]"
     ]
    }
   ],
   "source": [
    "import boto3\n",
    "import json\n",
    "from datetime import datetime\n",
    "\n",
    "# Replace 'your-bucket-name' with the actual name of your S3 bucket\n",
    "bucket_name = 'your-bucket-name'\n",
    "\n",
    "# Create a Boto3 S3 client\n",
    "s3_client = boto3.client('s3')\n",
    "\n",
    "# List objects in the bucket\n",
    "response = s3_client.list_objects_v2(Bucket='covid-data-16091988')\n",
    "\n",
    "# Extract relevant information and format the output JSON\n",
    "files_list = []\n",
    "for obj in response.get('Contents', []):\n",
    "    file_info = {\n",
    "        'Key': obj['Key'],\n",
    "        'LastModified': obj['LastModified'].strftime('%Y-%m-%d %H:%M:%S'),\n",
    "        'Size': obj['Size'],\n",
    "        'StorageClass': obj['StorageClass']\n",
    "    }\n",
    "    files_list.append(file_info)\n",
    "\n",
    "# Create a JSON object with timestamp formatting\n",
    "formatted_json = json.dumps(files_list, indent=2)\n",
    "\n",
    "# Print the formatted JSON\n",
    "print(formatted_json)\n"
   ]
  },
  {
   "cell_type": "code",
   "execution_count": 7,
   "id": "1aaae846-266c-42a7-8dda-257b0c9acb15",
   "metadata": {},
   "outputs": [
    {
     "data": {
      "application/vnd.jupyter.widget-view+json": {
       "model_id": "",
       "version_major": 2,
       "version_minor": 0
      },
      "text/plain": [
       "FloatProgress(value=0.0, bar_style='info', description='Progress:', layout=Layout(height='25px', width='50%'),…"
      ]
     },
     "metadata": {},
     "output_type": "display_data"
    },
    {
     "name": "stdout",
     "output_type": "stream",
     "text": [
      "Raw Response:\n",
      "{\n",
      "  \"ResponseMetadata\": {\n",
      "    \"RequestId\": \"NTR8X0V3NCD4E51A\",\n",
      "    \"HostId\": \"UyeW6diOjjzcqcBgPqhZ11IiAysxw50zGccf4s5hbGP62UkLWgy3kZ7jbDf9q5LI9X4GH9u+QeY=\",\n",
      "    \"HTTPStatusCode\": 200,\n",
      "    \"HTTPHeaders\": {\n",
      "      \"x-amz-id-2\": \"UyeW6diOjjzcqcBgPqhZ11IiAysxw50zGccf4s5hbGP62UkLWgy3kZ7jbDf9q5LI9X4GH9u+QeY=\",\n",
      "      \"x-amz-request-id\": \"NTR8X0V3NCD4E51A\",\n",
      "      \"date\": \"Mon, 26 Feb 2024 11:25:11 GMT\",\n",
      "      \"x-amz-bucket-region\": \"ap-south-1\",\n",
      "      \"content-type\": \"application/xml\",\n",
      "      \"transfer-encoding\": \"chunked\",\n",
      "      \"server\": \"AmazonS3\"\n",
      "    },\n",
      "    \"RetryAttempts\": 0\n",
      "  },\n",
      "  \"IsTruncated\": false,\n",
      "  \"Contents\": [\n",
      "    {\n",
      "      \"Key\": \"csv/india-data/covid_19_india.csv\",\n",
      "      \"LastModified\": \"2024-02-16T12:05:30+00:00\",\n",
      "      \"ETag\": \"\\\"c1dd1766111d18f4bea869b7d926805b\\\"\",\n",
      "      \"Size\": 1005449,\n",
      "      \"StorageClass\": \"STANDARD\"\n",
      "    },\n",
      "    {\n",
      "      \"Key\": \"csv/testing-details/StatewiseTestingDetails.csv\",\n",
      "      \"LastModified\": \"2024-02-16T09:41:28+00:00\",\n",
      "      \"ETag\": \"\\\"7c9e108cf41b550aa451504d69b27fb2\\\"\",\n",
      "      \"Size\": 622938,\n",
      "      \"StorageClass\": \"STANDARD\"\n",
      "    },\n",
      "    {\n",
      "      \"Key\": \"csv/vaccine-data/covid_vaccine_statewise.csv\",\n",
      "      \"LastModified\": \"2024-02-16T09:43:02+00:00\",\n",
      "      \"ETag\": \"\\\"41badbdb48df31e60735117dd0cc4bb5\\\"\",\n",
      "      \"Size\": 1108819,\n",
      "      \"StorageClass\": \"STANDARD\"\n",
      "    },\n",
      "    {\n",
      "      \"Key\": \"glue/scripts/CovidDataProcessing.py\",\n",
      "      \"LastModified\": \"2024-02-16T15:23:46+00:00\",\n",
      "      \"ETag\": \"\\\"0d245cfa486774f46be52b6f0d5a9c3e\\\"\",\n",
      "      \"Size\": 1162,\n",
      "      \"StorageClass\": \"STANDARD\"\n",
      "    }\n",
      "  ],\n",
      "  \"Name\": \"covid-data-16091988\",\n",
      "  \"Prefix\": \"\",\n",
      "  \"MaxKeys\": 1000,\n",
      "  \"EncodingType\": \"url\",\n",
      "  \"KeyCount\": 4\n",
      "}\n",
      "\n",
      "Formatted JSON:\n",
      "[\n",
      "  {\n",
      "    \"Key\": \"csv/india-data/covid_19_india.csv\",\n",
      "    \"LastModified\": \"2024-02-16T12:05:30+00:00\",\n",
      "    \"Size\": 1005449,\n",
      "    \"StorageClass\": \"STANDARD\"\n",
      "  },\n",
      "  {\n",
      "    \"Key\": \"csv/testing-details/StatewiseTestingDetails.csv\",\n",
      "    \"LastModified\": \"2024-02-16T09:41:28+00:00\",\n",
      "    \"Size\": 622938,\n",
      "    \"StorageClass\": \"STANDARD\"\n",
      "  },\n",
      "  {\n",
      "    \"Key\": \"csv/vaccine-data/covid_vaccine_statewise.csv\",\n",
      "    \"LastModified\": \"2024-02-16T09:43:02+00:00\",\n",
      "    \"Size\": 1108819,\n",
      "    \"StorageClass\": \"STANDARD\"\n",
      "  },\n",
      "  {\n",
      "    \"Key\": \"glue/scripts/CovidDataProcessing.py\",\n",
      "    \"LastModified\": \"2024-02-16T15:23:46+00:00\",\n",
      "    \"Size\": 1162,\n",
      "    \"StorageClass\": \"STANDARD\"\n",
      "  }\n",
      "]"
     ]
    }
   ],
   "source": [
    "import boto3\n",
    "import json\n",
    "from datetime import datetime, date\n",
    "\n",
    "# Custom JSON encoder to handle datetime objects\n",
    "class DateTimeEncoder(json.JSONEncoder):\n",
    "    def default(self, obj):\n",
    "        if isinstance(obj, (datetime, date)):\n",
    "            return obj.isoformat()\n",
    "        return super().default(obj)\n",
    "\n",
    "# Replace 'your-bucket-name' with the actual name of your S3 bucket\n",
    "bucket_name = 'your-bucket-name'\n",
    "\n",
    "# Create a Boto3 S3 client\n",
    "s3_client = boto3.client('s3')\n",
    "\n",
    "# List objects in the bucket\n",
    "response = s3_client.list_objects_v2(Bucket='covid-data-16091988')\n",
    "\n",
    "# Print the raw response in a formatted way\n",
    "print(\"Raw Response:\")\n",
    "print(json.dumps(response, indent=2, cls=DateTimeEncoder))\n",
    "\n",
    "# Extract relevant information and format the output JSON\n",
    "files_list = []\n",
    "for obj in response.get('Contents', []):\n",
    "    file_info = {\n",
    "        'Key': obj['Key'],\n",
    "        'LastModified': obj['LastModified'],\n",
    "        'Size': obj['Size'],\n",
    "        'StorageClass': obj['StorageClass']\n",
    "    }\n",
    "    files_list.append(file_info)\n",
    "\n",
    "# Create a JSON object with timestamp formatting\n",
    "formatted_json = json.dumps(files_list, indent=2, cls=DateTimeEncoder)\n",
    "\n",
    "# Print the formatted JSON\n",
    "print(\"\\nFormatted JSON:\")\n",
    "print(formatted_json)\n"
   ]
  },
  {
   "cell_type": "code",
   "execution_count": 8,
   "id": "eafff838-9834-4e6c-9e64-2d650f72dd6f",
   "metadata": {},
   "outputs": [
    {
     "data": {
      "application/vnd.jupyter.widget-view+json": {
       "model_id": "",
       "version_major": 2,
       "version_minor": 0
      },
      "text/plain": [
       "FloatProgress(value=0.0, bar_style='info', description='Progress:', layout=Layout(height='25px', width='50%'),…"
      ]
     },
     "metadata": {},
     "output_type": "display_data"
    },
    {
     "name": "stdout",
     "output_type": "stream",
     "text": [
      "[{'Key': 'csv/india-data/covid_19_india.csv', 'LastModified': datetime.datetime(2024, 2, 16, 12, 5, 30, tzinfo=tzlocal()), 'ETag': '\"c1dd1766111d18f4bea869b7d926805b\"', 'Size': 1005449, 'StorageClass': 'STANDARD'}, {'Key': 'csv/testing-details/StatewiseTestingDetails.csv', 'LastModified': datetime.datetime(2024, 2, 16, 9, 41, 28, tzinfo=tzlocal()), 'ETag': '\"7c9e108cf41b550aa451504d69b27fb2\"', 'Size': 622938, 'StorageClass': 'STANDARD'}, {'Key': 'csv/vaccine-data/covid_vaccine_statewise.csv', 'LastModified': datetime.datetime(2024, 2, 16, 9, 43, 2, tzinfo=tzlocal()), 'ETag': '\"41badbdb48df31e60735117dd0cc4bb5\"', 'Size': 1108819, 'StorageClass': 'STANDARD'}, {'Key': 'glue/scripts/CovidDataProcessing.py', 'LastModified': datetime.datetime(2024, 2, 16, 15, 23, 46, tzinfo=tzlocal()), 'ETag': '\"0d245cfa486774f46be52b6f0d5a9c3e\"', 'Size': 1162, 'StorageClass': 'STANDARD'}]"
     ]
    }
   ],
   "source": [
    "# Test to understand json and dict data functions\n",
    "\n",
    "class DateTimeEncoder(json.JSONEncoder):\n",
    "    def default(self, obj):\n",
    "        if isinstance(obj, (datetime, date)):\n",
    "            return obj.isoformat()\n",
    "        return super().default(obj)\n",
    "    \n",
    "# print (json.dumps(response.get('Contents', []), indent=2,cls=DateTimeEncode))\n",
    "\n",
    "# print(response.get('Contents', []))\n",
    "\n",
    "# print(response.get('Name', []))\n",
    "contents_list = response.get('Contents', [])\n",
    "print(response['Contents'])\n",
    "# print(contents_list[1])\n",
    "# print(contents_list[1].get('Key'))\n",
    "\n",
    "# for obj in response.get('Contents', []):\n",
    "#     print (obj)\n",
    "#     print (obj['Key'])\n",
    "                    \n",
    "\n",
    "# print(\"Raw Response:\")\n",
    "# print(json.dumps(response, indent=2, cls=DateTimeEncoder))\n",
    "\n",
    "# # Extract relevant information and format the output JSON\n",
    "# files_list = []\n",
    "# for obj in response.get('Contents', []):\n",
    "#     file_info = {\n",
    "#         'Key': obj['Key'],\n",
    "#         'LastModified': obj['LastModified'],\n",
    "#         'Size': obj['Size'],\n",
    "#         'StorageClass': obj['StorageClass']\n",
    "#     }\n",
    "#     files_list.append(file_info)\n",
    "\n",
    "# # Create a JSON object with timestamp formatting\n",
    "# formatted_json = json.dumps(files_list, indent=2, cls=DateTimeEncoder)\n"
   ]
  },
  {
   "cell_type": "code",
   "execution_count": 9,
   "id": "d9d25322-7a78-45bf-b2f2-0ba1ec71680d",
   "metadata": {},
   "outputs": [
    {
     "data": {
      "application/vnd.jupyter.widget-view+json": {
       "model_id": "",
       "version_major": 2,
       "version_minor": 0
      },
      "text/plain": [
       "FloatProgress(value=0.0, bar_style='info', description='Progress:', layout=Layout(height='25px', width='50%'),…"
      ]
     },
     "metadata": {},
     "output_type": "display_data"
    },
    {
     "name": "stdout",
     "output_type": "stream",
     "text": [
      "List of Glue Crawlers:\n",
      "{\n",
      "  \"Crawlers\": [\n",
      "    {\n",
      "      \"Name\": \"covid_ind_data_crawler\",\n",
      "      \"Role\": \"aws-glue-crawler-role\",\n",
      "      \"Targets\": {\n",
      "        \"S3Targets\": [\n",
      "          {\n",
      "            \"Path\": \"s3://covid-data-16091988/csv/india-data\",\n",
      "            \"Exclusions\": []\n",
      "          }\n",
      "        ],\n",
      "        \"JdbcTargets\": [],\n",
      "        \"MongoDBTargets\": [],\n",
      "        \"DynamoDBTargets\": [],\n",
      "        \"CatalogTargets\": [],\n",
      "        \"DeltaTargets\": []\n",
      "      },\n",
      "      \"DatabaseName\": \"covid_db\",\n",
      "      \"Classifiers\": [],\n",
      "      \"RecrawlPolicy\": {\n",
      "        \"RecrawlBehavior\": \"CRAWL_EVERYTHING\"\n",
      "      },\n",
      "      \"SchemaChangePolicy\": {\n",
      "        \"UpdateBehavior\": \"UPDATE_IN_DATABASE\",\n",
      "        \"DeleteBehavior\": \"DEPRECATE_IN_DATABASE\"\n",
      "      },\n",
      "      \"LineageConfiguration\": {\n",
      "        \"CrawlerLineageSettings\": \"DISABLE\"\n",
      "      },\n",
      "      \"State\": \"READY\",\n",
      "      \"CrawlElapsedTime\": 0,\n",
      "      \"CreationTime\": \"2024-02-20T08:36:22+00:00\",\n",
      "      \"LastUpdated\": \"2024-02-20T08:36:22+00:00\",\n",
      "      \"LastCrawl\": {\n",
      "        \"Status\": \"SUCCEEDED\",\n",
      "        \"LogGroup\": \"/aws-glue/crawlers\",\n",
      "        \"LogStream\": \"covid_ind_data_crawler\",\n",
      "        \"MessagePrefix\": \"21e71580-5e5d-4143-ba25-0237b1244836\",\n",
      "        \"StartTime\": \"2024-02-20T08:52:50+00:00\"\n",
      "      },\n",
      "      \"Version\": 1,\n",
      "      \"LakeFormationConfiguration\": {\n",
      "        \"UseLakeFormationCredentials\": false,\n",
      "        \"AccountId\": \"\"\n",
      "      }\n",
      "    },\n",
      "    {\n",
      "      \"Name\": \"covid_testing_data_crawler\",\n",
      "      \"Role\": \"aws-glue-crawler-role\",\n",
      "      \"Targets\": {\n",
      "        \"S3Targets\": [\n",
      "          {\n",
      "            \"Path\": \"s3://covid-data-16091988/csv/testing-details\",\n",
      "            \"Exclusions\": []\n",
      "          }\n",
      "        ],\n",
      "        \"JdbcTargets\": [],\n",
      "        \"MongoDBTargets\": [],\n",
      "        \"DynamoDBTargets\": [],\n",
      "        \"CatalogTargets\": [],\n",
      "        \"DeltaTargets\": []\n",
      "      },\n",
      "      \"DatabaseName\": \"covid_db\",\n",
      "      \"Classifiers\": [],\n",
      "      \"RecrawlPolicy\": {\n",
      "        \"RecrawlBehavior\": \"CRAWL_EVERYTHING\"\n",
      "      },\n",
      "      \"SchemaChangePolicy\": {\n",
      "        \"UpdateBehavior\": \"UPDATE_IN_DATABASE\",\n",
      "        \"DeleteBehavior\": \"DEPRECATE_IN_DATABASE\"\n",
      "      },\n",
      "      \"LineageConfiguration\": {\n",
      "        \"CrawlerLineageSettings\": \"DISABLE\"\n",
      "      },\n",
      "      \"State\": \"READY\",\n",
      "      \"CrawlElapsedTime\": 0,\n",
      "      \"CreationTime\": \"2024-02-20T08:36:22+00:00\",\n",
      "      \"LastUpdated\": \"2024-02-20T08:36:22+00:00\",\n",
      "      \"LastCrawl\": {\n",
      "        \"Status\": \"SUCCEEDED\",\n",
      "        \"LogGroup\": \"/aws-glue/crawlers\",\n",
      "        \"LogStream\": \"covid_testing_data_crawler\",\n",
      "        \"MessagePrefix\": \"cff1b85d-e723-442a-adb9-d7b327020556\",\n",
      "        \"StartTime\": \"2024-02-20T08:39:56+00:00\"\n",
      "      },\n",
      "      \"Version\": 1,\n",
      "      \"LakeFormationConfiguration\": {\n",
      "        \"UseLakeFormationCredentials\": false,\n",
      "        \"AccountId\": \"\"\n",
      "      }\n",
      "    },\n",
      "    {\n",
      "      \"Name\": \"vaccine_detl_crawler\",\n",
      "      \"Role\": \"aws-glue-crawler-role\",\n",
      "      \"Targets\": {\n",
      "        \"S3Targets\": [\n",
      "          {\n",
      "            \"Path\": \"s3://covid-data-16091988/csv/vaccine-data\",\n",
      "            \"Exclusions\": []\n",
      "          }\n",
      "        ],\n",
      "        \"JdbcTargets\": [],\n",
      "        \"MongoDBTargets\": [],\n",
      "        \"DynamoDBTargets\": [],\n",
      "        \"CatalogTargets\": [],\n",
      "        \"DeltaTargets\": []\n",
      "      },\n",
      "      \"DatabaseName\": \"covid_db\",\n",
      "      \"Classifiers\": [],\n",
      "      \"RecrawlPolicy\": {\n",
      "        \"RecrawlBehavior\": \"CRAWL_EVERYTHING\"\n",
      "      },\n",
      "      \"SchemaChangePolicy\": {\n",
      "        \"UpdateBehavior\": \"UPDATE_IN_DATABASE\",\n",
      "        \"DeleteBehavior\": \"DEPRECATE_IN_DATABASE\"\n",
      "      },\n",
      "      \"LineageConfiguration\": {\n",
      "        \"CrawlerLineageSettings\": \"DISABLE\"\n",
      "      },\n",
      "      \"State\": \"READY\",\n",
      "      \"CrawlElapsedTime\": 0,\n",
      "      \"CreationTime\": \"2024-02-19T15:03:05+00:00\",\n",
      "      \"LastUpdated\": \"2024-02-19T16:46:42+00:00\",\n",
      "      \"LastCrawl\": {\n",
      "        \"Status\": \"SUCCEEDED\",\n",
      "        \"LogGroup\": \"/aws-glue/crawlers\",\n",
      "        \"LogStream\": \"vaccine_detl_crawler\",\n",
      "        \"MessagePrefix\": \"031c5b45-29e5-4565-b9f6-94c95f257c28\",\n",
      "        \"StartTime\": \"2024-02-20T09:01:45+00:00\"\n",
      "      },\n",
      "      \"Version\": 2,\n",
      "      \"LakeFormationConfiguration\": {\n",
      "        \"UseLakeFormationCredentials\": false,\n",
      "        \"AccountId\": \"\"\n",
      "      }\n",
      "    }\n",
      "  ],\n",
      "  \"ResponseMetadata\": {\n",
      "    \"RequestId\": \"f249db9a-1958-46af-899e-9f4c1c7481fa\",\n",
      "    \"HTTPStatusCode\": 200,\n",
      "    \"HTTPHeaders\": {\n",
      "      \"date\": \"Mon, 26 Feb 2024 11:25:12 GMT\",\n",
      "      \"content-type\": \"application/x-amz-json-1.1\",\n",
      "      \"content-length\": \"2985\",\n",
      "      \"connection\": \"keep-alive\",\n",
      "      \"x-amzn-requestid\": \"f249db9a-1958-46af-899e-9f4c1c7481fa\"\n",
      "    },\n",
      "    \"RetryAttempts\": 0\n",
      "  }\n",
      "}"
     ]
    }
   ],
   "source": [
    "import boto3,json\n",
    "\n",
    "class DateTimeEncoder(json.JSONEncoder):\n",
    "    def default(self, obj):\n",
    "        if isinstance(obj, (datetime, date)):\n",
    "            return obj.isoformat()\n",
    "        return super().default(obj)\n",
    "\n",
    "# Create a Glue client\n",
    "glue_client = boto3.client('glue')\n",
    "\n",
    "# Get the list of crawlers\n",
    "response = glue_client.get_crawlers()\n",
    "\n",
    "# Extract and print crawler names\n",
    "crawlers = response['Crawlers']\n",
    "crawler_names = [crawler['Name'] for crawler in crawlers]\n",
    "\n",
    "print(\"List of Glue Crawlers:\")\n",
    "# for name in crawler_names:\n",
    "#     print(name)\n",
    "print(json.dumps(response, indent=2, cls=DateTimeEncoder))"
   ]
  },
  {
   "cell_type": "code",
   "execution_count": 10,
   "id": "4bec7afc-b916-4c94-9430-d0ac8350f76d",
   "metadata": {},
   "outputs": [
    {
     "data": {
      "application/vnd.jupyter.widget-view+json": {
       "model_id": "",
       "version_major": 2,
       "version_minor": 0
      },
      "text/plain": [
       "FloatProgress(value=0.0, bar_style='info', description='Progress:', layout=Layout(height='25px', width='50%'),…"
      ]
     },
     "metadata": {},
     "output_type": "display_data"
    },
    {
     "name": "stdout",
     "output_type": "stream",
     "text": [
      "+----------+-----+------------------------+--------+-------+-----------------------+------------------------+----------------------------+-------------------------------+----------------------------+------------------------------+-----------------------------------+----------------------------+----+-----------------------------------+-----------------------------------+---------------------------------+------------------------------+-------------------------+---------------------------+--------------------------------+--------------------------------+--------------------------------+------------------------------+\n",
      "|updated on|state|total doses administered|sessions|  sites|first dose administered|second dose administered|covaxin (doses administered)|covishield (doses administered)|male(individuals vaccinated)|female(individuals vaccinated)|transgender(individuals vaccinated)|total individuals vaccinated|aefi|18-44 years(individuals vaccinated)|45-60 years(individuals vaccinated)|60+ years(individuals vaccinated)|sputnik v (doses administered)|male (doses administered)|female (doses administered)|transgender (doses administered)|18-44 years (doses administered)|45-60 years (doses administered)|60+ years (doses administered)|\n",
      "+----------+-----+------------------------+--------+-------+-----------------------+------------------------+----------------------------+-------------------------------+----------------------------+------------------------------+-----------------------------------+----------------------------+----+-----------------------------------+-----------------------------------+---------------------------------+------------------------------+-------------------------+---------------------------+--------------------------------+--------------------------------+--------------------------------+------------------------------+\n",
      "|16/01/2021|India|                 48276.0|  3455.0| 2957.0|                48276.0|                     0.0|                       579.0|                        47697.0|                     23757.0|                       24517.0|                                2.0|                     48276.0|null|                               null|                               null|                             null|                          null|                     null|                       null|                            null|                            null|                            null|                          null|\n",
      "|17/01/2021|India|                 58604.0|  8532.0| 4954.0|                58604.0|                     0.0|                       635.0|                        57969.0|                     27348.0|                       31252.0|                                4.0|                     58604.0|null|                               null|                               null|                             null|                          null|                     null|                       null|                            null|                            null|                            null|                          null|\n",
      "|18/01/2021|India|                 99449.0| 13611.0| 6583.0|                99449.0|                     0.0|                      1299.0|                        98150.0|                     41361.0|                       58083.0|                                5.0|                     99449.0|null|                               null|                               null|                             null|                          null|                     null|                       null|                            null|                            null|                            null|                          null|\n",
      "|19/01/2021|India|                195525.0| 17855.0| 7951.0|               195525.0|                     0.0|                      3017.0|                       192508.0|                     81901.0|                      113613.0|                               11.0|                    195525.0|null|                               null|                               null|                             null|                          null|                     null|                       null|                            null|                            null|                            null|                          null|\n",
      "|20/01/2021|India|                251280.0| 25472.0|10504.0|               251280.0|                     0.0|                      3946.0|                       247334.0|                     98111.0|                      153145.0|                               24.0|                    251280.0|null|                               null|                               null|                             null|                          null|                     null|                       null|                            null|                            null|                            null|                          null|\n",
      "|21/01/2021|India|                365965.0| 32226.0|12600.0|               365965.0|                     0.0|                      5367.0|                       360598.0|                    132784.0|                      233143.0|                               38.0|                    365965.0|null|                               null|                               null|                             null|                          null|                     null|                       null|                            null|                            null|                            null|                          null|\n",
      "|22/01/2021|India|                549381.0| 36988.0|14115.0|               549381.0|                     0.0|                      8128.0|                       541253.0|                    193899.0|                      355402.0|                               80.0|                    549381.0|null|                               null|                               null|                             null|                          null|                     null|                       null|                            null|                            null|                            null|                          null|\n",
      "|23/01/2021|India|                759008.0| 43076.0|15605.0|               759008.0|                     0.0|                     11192.0|                       747816.0|                    267856.0|                      491049.0|                              103.0|                    759008.0|null|                               null|                               null|                             null|                          null|                     null|                       null|                            null|                            null|                            null|                          null|\n",
      "|24/01/2021|India|                835058.0| 49851.0|18111.0|               835058.0|                     0.0|                     13156.0|                       821902.0|                    296283.0|                      538647.0|                              128.0|                    835058.0|null|                               null|                               null|                             null|                          null|                     null|                       null|                            null|                            null|                            null|                          null|\n",
      "|25/01/2021|India|               1277104.0| 55151.0|19682.0|              1277104.0|                     0.0|                     18858.0|                      1258246.0|                    444137.0|                      832766.0|                              201.0|                   1277104.0|null|                               null|                               null|                             null|                          null|                     null|                       null|                            null|                            null|                            null|                          null|\n",
      "+----------+-----+------------------------+--------+-------+-----------------------+------------------------+----------------------------+-------------------------------+----------------------------+------------------------------+-----------------------------------+----------------------------+----+-----------------------------------+-----------------------------------+---------------------------------+------------------------------+-------------------------+---------------------------+--------------------------------+--------------------------------+--------------------------------+------------------------------+\n",
      "only showing top 10 rows\n",
      "\n",
      "/home/glue_user/spark/python/pyspark/sql/context.py:112: FutureWarning: Deprecated in 3.0.0. Use SparkSession.builder.getOrCreate() instead.\n",
      "  warnings.warn(\n",
      "/home/glue_user/spark/python/pyspark/sql/dataframe.py:127: UserWarning: DataFrame constructor is internal. Do not directly use it.\n",
      "  warnings.warn(\"DataFrame constructor is internal. Do not directly use it.\")"
     ]
    }
   ],
   "source": [
    "from pyspark.context import SparkContext\n",
    "from awsglue.context import GlueContext\n",
    "from pyspark.sql import SparkSession\n",
    "\n",
    "# Initialize the Spark and Glue contexts\n",
    "# sc = SparkContext()\n",
    "glueContext = GlueContext(spark)\n",
    "# spark = glueContext.spark_session\n",
    "\n",
    "# Specify the Glue Catalog database and table\n",
    "database_name = \"covid_db\"\n",
    "table_name = \"vaccine_data\"\n",
    "\n",
    "# Create a DynamicFrame representing the Glue Catalog table\n",
    "dynamic_frame = glueContext.create_dynamic_frame.from_catalog(database=database_name, table_name=table_name)\n",
    "\n",
    "# Convert DynamicFrame to DataFrame\n",
    "data_frame = dynamic_frame.toDF()\n",
    "\n",
    "# Display the first 10 records\n",
    "data_frame.show(10)\n"
   ]
  },
  {
   "cell_type": "code",
   "execution_count": 11,
   "id": "7114268e",
   "metadata": {
    "vscode": {
     "languageId": "plaintext"
    }
   },
   "outputs": [
    {
     "data": {
      "application/vnd.jupyter.widget-view+json": {
       "model_id": "",
       "version_major": 2,
       "version_minor": 0
      },
      "text/plain": [
       "FloatProgress(value=0.0, bar_style='info', description='Progress:', layout=Layout(height='25px', width='50%'),…"
      ]
     },
     "metadata": {},
     "output_type": "display_data"
    },
    {
     "name": "stdout",
     "output_type": "stream",
     "text": [
      "7845"
     ]
    }
   ],
   "source": [
    "from pyspark.context import SparkContext\n",
    "from awsglue.context import GlueContext\n",
    "from pyspark.sql import SparkSession\n",
    "\n",
    "# Initialize the Spark and Glue contexts\n",
    "# sc = SparkContext()\n",
    "glueContext = GlueContext(spark)\n",
    "# spark = glueContext.spark_session\n",
    "\n",
    "# Specify the Glue Catalog database and table\n",
    "database_name = \"covid_db\"\n",
    "table_name = \"vaccine_data\"  # 7845\n",
    "# table_name = \"testing_details\"  # 16336\n",
    "# table_name = \"india_data\" # 18110\n",
    "\n",
    "# Create a DynamicFrame representing the Glue Catalog table\n",
    "dynamic_frame = glueContext.create_dynamic_frame.from_catalog(database=database_name, table_name=table_name)\n",
    "\n",
    "# Convert DynamicFrame to DataFrame\n",
    "data_frame = dynamic_frame.toDF()\n",
    "\n",
    "data_frame.count()\n",
    "\n",
    "# Display the first 10 records\n",
    "# data_frame.show(10)\n"
   ]
  },
  {
   "cell_type": "code",
   "execution_count": 12,
   "id": "cc518d7c-e24a-4391-a171-e721e87e8c8c",
   "metadata": {},
   "outputs": [
    {
     "data": {
      "application/vnd.jupyter.widget-view+json": {
       "model_id": "",
       "version_major": 2,
       "version_minor": 0
      },
      "text/plain": [
       "FloatProgress(value=0.0, bar_style='info', description='Progress:', layout=Layout(height='25px', width='50%'),…"
      ]
     },
     "metadata": {},
     "output_type": "display_data"
    },
    {
     "name": "stdout",
     "output_type": "stream",
     "text": [
      "Table Schema:\n",
      "updated on: StringType({})\n",
      "state: StringType({})\n",
      "total doses administered: DoubleType({})\n",
      "sessions: DoubleType({})\n",
      "sites: DoubleType({})\n",
      "first dose administered: DoubleType({})\n",
      "second dose administered: DoubleType({})\n",
      "covaxin (doses administered): DoubleType({})\n",
      "covishield (doses administered): DoubleType({})\n",
      "male(individuals vaccinated): DoubleType({})\n",
      "female(individuals vaccinated): DoubleType({})\n",
      "transgender(individuals vaccinated): DoubleType({})\n",
      "total individuals vaccinated: DoubleType({})\n",
      "aefi: DoubleType({})\n",
      "18-44 years(individuals vaccinated): DoubleType({})\n",
      "45-60 years(individuals vaccinated): DoubleType({})\n",
      "60+ years(individuals vaccinated): DoubleType({})\n",
      "sputnik v (doses administered): DoubleType({})\n",
      "male (doses administered): DoubleType({})\n",
      "female (doses administered): DoubleType({})\n",
      "transgender (doses administered): DoubleType({})\n",
      "18-44 years (doses administered): DoubleType({})\n",
      "45-60 years (doses administered): DoubleType({})\n",
      "60+ years (doses administered): DoubleType({})\n",
      "\n",
      "Table Schema (JSON):\n",
      "{\"dataType\": \"struct\", \"properties\": {}, \"fields\": [{\"name\": \"updated on\", \"container\": {\"dataType\": \"string\", \"properties\": {}}, \"properties\": {}}, {\"name\": \"state\", \"container\": {\"dataType\": \"string\", \"properties\": {}}, \"properties\": {}}, {\"name\": \"total doses administered\", \"container\": {\"dataType\": \"double\", \"properties\": {}}, \"properties\": {}}, {\"name\": \"sessions\", \"container\": {\"dataType\": \"double\", \"properties\": {}}, \"properties\": {}}, {\"name\": \"sites\", \"container\": {\"dataType\": \"double\", \"properties\": {}}, \"properties\": {}}, {\"name\": \"first dose administered\", \"container\": {\"dataType\": \"double\", \"properties\": {}}, \"properties\": {}}, {\"name\": \"second dose administered\", \"container\": {\"dataType\": \"double\", \"properties\": {}}, \"properties\": {}}, {\"name\": \"covaxin (doses administered)\", \"container\": {\"dataType\": \"double\", \"properties\": {}}, \"properties\": {}}, {\"name\": \"covishield (doses administered)\", \"container\": {\"dataType\": \"double\", \"properties\": {}}, \"properties\": {}}, {\"name\": \"male(individuals vaccinated)\", \"container\": {\"dataType\": \"double\", \"properties\": {}}, \"properties\": {}}, {\"name\": \"female(individuals vaccinated)\", \"container\": {\"dataType\": \"double\", \"properties\": {}}, \"properties\": {}}, {\"name\": \"transgender(individuals vaccinated)\", \"container\": {\"dataType\": \"double\", \"properties\": {}}, \"properties\": {}}, {\"name\": \"total individuals vaccinated\", \"container\": {\"dataType\": \"double\", \"properties\": {}}, \"properties\": {}}, {\"name\": \"aefi\", \"container\": {\"dataType\": \"double\", \"properties\": {}}, \"properties\": {}}, {\"name\": \"18-44 years(individuals vaccinated)\", \"container\": {\"dataType\": \"double\", \"properties\": {}}, \"properties\": {}}, {\"name\": \"45-60 years(individuals vaccinated)\", \"container\": {\"dataType\": \"double\", \"properties\": {}}, \"properties\": {}}, {\"name\": \"60+ years(individuals vaccinated)\", \"container\": {\"dataType\": \"double\", \"properties\": {}}, \"properties\": {}}, {\"name\": \"sputnik v (doses administered)\", \"container\": {\"dataType\": \"double\", \"properties\": {}}, \"properties\": {}}, {\"name\": \"male (doses administered)\", \"container\": {\"dataType\": \"double\", \"properties\": {}}, \"properties\": {}}, {\"name\": \"female (doses administered)\", \"container\": {\"dataType\": \"double\", \"properties\": {}}, \"properties\": {}}, {\"name\": \"transgender (doses administered)\", \"container\": {\"dataType\": \"double\", \"properties\": {}}, \"properties\": {}}, {\"name\": \"18-44 years (doses administered)\", \"container\": {\"dataType\": \"double\", \"properties\": {}}, \"properties\": {}}, {\"name\": \"45-60 years (doses administered)\", \"container\": {\"dataType\": \"double\", \"properties\": {}}, \"properties\": {}}, {\"name\": \"60+ years (doses administered)\", \"container\": {\"dataType\": \"double\", \"properties\": {}}, \"properties\": {}}]}"
     ]
    }
   ],
   "source": [
    "# Specify the Glue Catalog database and table\n",
    "database_name = \"covid_db\"\n",
    "# table_name = \"vaccine_data\"  # 7845\n",
    "# table_name = \"testing_details\"  # 16336\n",
    "# table_name = \"india_data\" # 18110\n",
    "\n",
    "glue_table = glueContext.create_dynamic_frame.from_catalog(\n",
    "    database=database_name,\n",
    "    table_name=table_name\n",
    ")\n",
    "\n",
    "# Get the schema of the table\n",
    "schema = glue_table.schema()\n",
    "\n",
    "# Print the schema\n",
    "print(\"Table Schema:\")\n",
    "for field in schema.fields:\n",
    "    # Access the data type directly and print\n",
    "    print(f\"{field.name}: {field.dataType}\")\n",
    "\n",
    "# Convert StructType to JSON string\n",
    "schema_json = json.dumps(schema.jsonValue())\n",
    "\n",
    "# Print the JSON string\n",
    "print(\"\\nTable Schema (JSON):\")\n",
    "print(schema_json)\n"
   ]
  },
  {
   "cell_type": "code",
   "execution_count": 13,
   "id": "c7aa3ab6-8d1a-4a90-836e-c381cfa5ee7e",
   "metadata": {},
   "outputs": [
    {
     "data": {
      "application/vnd.jupyter.widget-view+json": {
       "model_id": "",
       "version_major": 2,
       "version_minor": 0
      },
      "text/plain": [
       "FloatProgress(value=0.0, bar_style='info', description='Progress:', layout=Layout(height='25px', width='50%'),…"
      ]
     },
     "metadata": {},
     "output_type": "display_data"
    },
    {
     "name": "stdout",
     "output_type": "stream",
     "text": [
      "\n",
      "Table: vaccine_data\n",
      "Table Schema:\n",
      "updated on: StringType({})\n",
      "state: StringType({})\n",
      "total doses administered: DoubleType({})\n",
      "sessions: DoubleType({})\n",
      "sites: DoubleType({})\n",
      "first dose administered: DoubleType({})\n",
      "second dose administered: DoubleType({})\n",
      "covaxin (doses administered): DoubleType({})\n",
      "covishield (doses administered): DoubleType({})\n",
      "male(individuals vaccinated): DoubleType({})\n",
      "female(individuals vaccinated): DoubleType({})\n",
      "transgender(individuals vaccinated): DoubleType({})\n",
      "total individuals vaccinated: DoubleType({})\n",
      "aefi: DoubleType({})\n",
      "18-44 years(individuals vaccinated): DoubleType({})\n",
      "45-60 years(individuals vaccinated): DoubleType({})\n",
      "60+ years(individuals vaccinated): DoubleType({})\n",
      "sputnik v (doses administered): DoubleType({})\n",
      "male (doses administered): DoubleType({})\n",
      "female (doses administered): DoubleType({})\n",
      "transgender (doses administered): DoubleType({})\n",
      "18-44 years (doses administered): DoubleType({})\n",
      "45-60 years (doses administered): DoubleType({})\n",
      "60+ years (doses administered): DoubleType({})\n",
      "\n",
      "Table Schema (JSON):\n",
      "{\"dataType\": \"struct\", \"properties\": {}, \"fields\": [{\"name\": \"updated on\", \"container\": {\"dataType\": \"string\", \"properties\": {}}, \"properties\": {}}, {\"name\": \"state\", \"container\": {\"dataType\": \"string\", \"properties\": {}}, \"properties\": {}}, {\"name\": \"total doses administered\", \"container\": {\"dataType\": \"double\", \"properties\": {}}, \"properties\": {}}, {\"name\": \"sessions\", \"container\": {\"dataType\": \"double\", \"properties\": {}}, \"properties\": {}}, {\"name\": \"sites\", \"container\": {\"dataType\": \"double\", \"properties\": {}}, \"properties\": {}}, {\"name\": \"first dose administered\", \"container\": {\"dataType\": \"double\", \"properties\": {}}, \"properties\": {}}, {\"name\": \"second dose administered\", \"container\": {\"dataType\": \"double\", \"properties\": {}}, \"properties\": {}}, {\"name\": \"covaxin (doses administered)\", \"container\": {\"dataType\": \"double\", \"properties\": {}}, \"properties\": {}}, {\"name\": \"covishield (doses administered)\", \"container\": {\"dataType\": \"double\", \"properties\": {}}, \"properties\": {}}, {\"name\": \"male(individuals vaccinated)\", \"container\": {\"dataType\": \"double\", \"properties\": {}}, \"properties\": {}}, {\"name\": \"female(individuals vaccinated)\", \"container\": {\"dataType\": \"double\", \"properties\": {}}, \"properties\": {}}, {\"name\": \"transgender(individuals vaccinated)\", \"container\": {\"dataType\": \"double\", \"properties\": {}}, \"properties\": {}}, {\"name\": \"total individuals vaccinated\", \"container\": {\"dataType\": \"double\", \"properties\": {}}, \"properties\": {}}, {\"name\": \"aefi\", \"container\": {\"dataType\": \"double\", \"properties\": {}}, \"properties\": {}}, {\"name\": \"18-44 years(individuals vaccinated)\", \"container\": {\"dataType\": \"double\", \"properties\": {}}, \"properties\": {}}, {\"name\": \"45-60 years(individuals vaccinated)\", \"container\": {\"dataType\": \"double\", \"properties\": {}}, \"properties\": {}}, {\"name\": \"60+ years(individuals vaccinated)\", \"container\": {\"dataType\": \"double\", \"properties\": {}}, \"properties\": {}}, {\"name\": \"sputnik v (doses administered)\", \"container\": {\"dataType\": \"double\", \"properties\": {}}, \"properties\": {}}, {\"name\": \"male (doses administered)\", \"container\": {\"dataType\": \"double\", \"properties\": {}}, \"properties\": {}}, {\"name\": \"female (doses administered)\", \"container\": {\"dataType\": \"double\", \"properties\": {}}, \"properties\": {}}, {\"name\": \"transgender (doses administered)\", \"container\": {\"dataType\": \"double\", \"properties\": {}}, \"properties\": {}}, {\"name\": \"18-44 years (doses administered)\", \"container\": {\"dataType\": \"double\", \"properties\": {}}, \"properties\": {}}, {\"name\": \"45-60 years (doses administered)\", \"container\": {\"dataType\": \"double\", \"properties\": {}}, \"properties\": {}}, {\"name\": \"60+ years (doses administered)\", \"container\": {\"dataType\": \"double\", \"properties\": {}}, \"properties\": {}}]}\n",
      "\n",
      "========================================\n",
      "\n",
      "Table: testing_details\n",
      "Table Schema:\n",
      "date: StringType({})\n",
      "state: StringType({})\n",
      "totalsamples: DoubleType({})\n",
      "negative: ChoiceType([LongType({}),StringType({})], {})\n",
      "positive: DoubleType({})\n",
      "\n",
      "Table Schema (JSON):\n",
      "{\"dataType\": \"struct\", \"properties\": {}, \"fields\": [{\"name\": \"date\", \"container\": {\"dataType\": \"string\", \"properties\": {}}, \"properties\": {}}, {\"name\": \"state\", \"container\": {\"dataType\": \"string\", \"properties\": {}}, \"properties\": {}}, {\"name\": \"totalsamples\", \"container\": {\"dataType\": \"double\", \"properties\": {}}, \"properties\": {}}, {\"name\": \"negative\", \"container\": {\"dataType\": \"choice\", \"properties\": {}, \"choices\": [{\"dataType\": \"string\", \"properties\": {}}, {\"dataType\": \"long\", \"properties\": {}}]}, \"properties\": {}}, {\"name\": \"positive\", \"container\": {\"dataType\": \"double\", \"properties\": {}}, \"properties\": {}}]}\n",
      "\n",
      "========================================\n",
      "\n",
      "Table: india_data\n",
      "Table Schema:\n",
      "sno: LongType({})\n",
      "date: StringType({})\n",
      "time: StringType({})\n",
      "state/unionterritory: StringType({})\n",
      "confirmedindiannational: ChoiceType([LongType({}),StringType({})], {})\n",
      "confirmedforeignnational: ChoiceType([LongType({}),StringType({})], {})\n",
      "cured: LongType({})\n",
      "deaths: LongType({})\n",
      "confirmed: LongType({})\n",
      "\n",
      "Table Schema (JSON):\n",
      "{\"dataType\": \"struct\", \"properties\": {}, \"fields\": [{\"name\": \"sno\", \"container\": {\"dataType\": \"long\", \"properties\": {}}, \"properties\": {}}, {\"name\": \"date\", \"container\": {\"dataType\": \"string\", \"properties\": {}}, \"properties\": {}}, {\"name\": \"time\", \"container\": {\"dataType\": \"string\", \"properties\": {}}, \"properties\": {}}, {\"name\": \"state/unionterritory\", \"container\": {\"dataType\": \"string\", \"properties\": {}}, \"properties\": {}}, {\"name\": \"confirmedindiannational\", \"container\": {\"dataType\": \"choice\", \"properties\": {}, \"choices\": [{\"dataType\": \"string\", \"properties\": {}}, {\"dataType\": \"long\", \"properties\": {}}]}, \"properties\": {}}, {\"name\": \"confirmedforeignnational\", \"container\": {\"dataType\": \"choice\", \"properties\": {}, \"choices\": [{\"dataType\": \"string\", \"properties\": {}}, {\"dataType\": \"long\", \"properties\": {}}]}, \"properties\": {}}, {\"name\": \"cured\", \"container\": {\"dataType\": \"long\", \"properties\": {}}, \"properties\": {}}, {\"name\": \"deaths\", \"container\": {\"dataType\": \"long\", \"properties\": {}}, \"properties\": {}}, {\"name\": \"confirmed\", \"container\": {\"dataType\": \"long\", \"properties\": {}}, \"properties\": {}}]}\n",
      "\n",
      "========================================"
     ]
    }
   ],
   "source": [
    "table_names = [\"vaccine_data\" ,\"testing_details\" ,\"india_data\"]\n",
    "\n",
    "for table_name in table_names:\n",
    "    # Assuming 'database_name' is your database name\n",
    "    glue_table = glueContext.create_dynamic_frame.from_catalog(\n",
    "        database=database_name,\n",
    "        table_name=table_name\n",
    "    )\n",
    "\n",
    "    # Get the schema of the table\n",
    "    schema = glue_table.schema()\n",
    "\n",
    "    # Print the table name\n",
    "    print(f\"\\nTable: {table_name}\")\n",
    "\n",
    "    # Print the schema\n",
    "    print(\"Table Schema:\")\n",
    "    for field in schema.fields:\n",
    "        # Access the data type directly and print\n",
    "        print(f\"{field.name}: {field.dataType}\")\n",
    "\n",
    "    # Convert StructType to JSON string\n",
    "    schema_json = json.dumps(schema.jsonValue())\n",
    "\n",
    "    # Print the JSON string\n",
    "    print(\"\\nTable Schema (JSON):\")\n",
    "    print(schema_json)\n",
    "    print(\"\\n\" + \"=\"*40)  # Just to separate the output for each table"
   ]
  },
  {
   "cell_type": "code",
   "execution_count": 14,
   "id": "6cc63104-bcd8-4064-a14f-9e51ed4f6a44",
   "metadata": {},
   "outputs": [
    {
     "data": {
      "application/vnd.jupyter.widget-view+json": {
       "model_id": "",
       "version_major": 2,
       "version_minor": 0
      },
      "text/plain": [
       "FloatProgress(value=0.0, bar_style='info', description='Progress:', layout=Layout(height='25px', width='50%'),…"
      ]
     },
     "metadata": {},
     "output_type": "display_data"
    },
    {
     "name": "stdout",
     "output_type": "stream",
     "text": [
      "+--------------+---------------+\n",
      "|         state|    total_doses|\n",
      "+--------------+---------------+\n",
      "|         India|3.5021766242E10|\n",
      "|   Maharashtra|  3.497245417E9|\n",
      "| Uttar Pradesh|   3.34284647E9|\n",
      "|       Gujarat|  2.732064385E9|\n",
      "|     Rajasthan|  2.692747175E9|\n",
      "|   West Bengal|  2.382596869E9|\n",
      "|     Karnataka|  2.300517146E9|\n",
      "|Madhya Pradesh|  2.113537548E9|\n",
      "|         Bihar|  1.741293449E9|\n",
      "|Andhra Pradesh|   1.59167844E9|\n",
      "|    Tamil Nadu|  1.579203134E9|\n",
      "|        Kerala|  1.557893825E9|\n",
      "|        Odisha|  1.283935962E9|\n",
      "|     Telangana|  1.078473591E9|\n",
      "|  Chhattisgarh|   9.68123302E8|\n",
      "|       Haryana|    9.1445441E8|\n",
      "|         Delhi|   8.12558419E8|\n",
      "|     Jharkhand|   7.25794786E8|\n",
      "|         Assam|   7.16389018E8|\n",
      "|        Punjab|   7.05467577E8|\n",
      "+--------------+---------------+\n",
      "only showing top 20 rows\n",
      "\n",
      "+---------------+---------------+-----------------+\n",
      "|age_group_18_44|age_group_45_60|age_group_60_plus|\n",
      "+---------------+---------------+-----------------+\n",
      "|  5.210874302E9|1.0890266225E10|    9.810876107E9|\n",
      "+---------------+---------------+-----------------+"
     ]
    }
   ],
   "source": [
    "from pyspark.sql import SparkSession\n",
    "from pyspark.sql.functions import sum\n",
    "\n",
    "table_name = \"vaccine_data\"\n",
    "\n",
    "glue_table = glueContext.create_dynamic_frame.from_catalog(\n",
    "        database=database_name,\n",
    "        table_name=table_name\n",
    "    )\n",
    "\n",
    "# Assuming glue_table is your DynamicFrame for vaccine_data\n",
    "vaccine_data_df = glue_table.toDF()\n",
    "\n",
    "vaccine_data_df.createOrReplaceTempView(\"vaccine_data\")\n",
    "\n",
    "# Query: Total doses administered per state\n",
    "result1 = vaccine_data_df.groupBy(\"`state`\").agg(sum(\"`total doses administered`\").alias(\"total_doses\")).orderBy(\"total_doses\", ascending=False)\n",
    "\n",
    "# Query 2: Distribution of vaccinations among different age groups\n",
    "result2 = vaccine_data_df.agg(\n",
    "    sum(\"`18-44 years(individuals vaccinated)`\").alias(\"age_group_18_44\"),\n",
    "    sum(\"`45-60 years(individuals vaccinated)`\").alias(\"age_group_45_60\"),\n",
    "    sum(\"`60+ years(individuals vaccinated)`\").alias(\"age_group_60_plus\")\n",
    ")\n",
    "\n",
    "result1.show()\n",
    "result2.show()\n",
    "\n"
   ]
  },
  {
   "cell_type": "code",
   "execution_count": 17,
   "id": "e2a72fb5-2810-43a8-8c38-a7899bfdf574",
   "metadata": {},
   "outputs": [
    {
     "data": {
      "application/vnd.jupyter.widget-view+json": {
       "model_id": "",
       "version_major": 2,
       "version_minor": 0
      },
      "text/plain": [
       "FloatProgress(value=0.0, bar_style='info', description='Progress:', layout=Layout(height='25px', width='50%'),…"
      ]
     },
     "metadata": {},
     "output_type": "display_data"
    },
    {
     "name": "stdout",
     "output_type": "stream",
     "text": [
      "+-----------+------------------+\n",
      "|      state|positive_test_rate|\n",
      "+-----------+------------------+\n",
      "|  Telangana|21.985719867855494|\n",
      "|  Telangana| 21.91081668533616|\n",
      "|  Telangana|21.498310468864354|\n",
      "|  Telangana| 21.32500380520022|\n",
      "|  Telangana|21.055000081821007|\n",
      "|Maharashtra|20.725078827841028|\n",
      "|Maharashtra|20.718882376962544|\n",
      "|Maharashtra|20.710092427892807|\n",
      "|Maharashtra|20.709177441173914|\n",
      "|Maharashtra|20.694990671854118|\n",
      "|Maharashtra|20.653337951142074|\n",
      "|  Telangana|20.634523244269868|\n",
      "|  Telangana| 20.59677747562758|\n",
      "|Maharashtra|20.582295583577036|\n",
      "|Maharashtra| 20.53205699751493|\n",
      "|Maharashtra|20.506328002255263|\n",
      "|Maharashtra|20.443576947986493|\n",
      "|Maharashtra|20.403893471162625|\n",
      "|Maharashtra|20.402818682818754|\n",
      "|Maharashtra|20.397557042723424|\n",
      "+-----------+------------------+\n",
      "only showing top 20 rows\n",
      "\n",
      "+----------+-------------+\n",
      "|      date|total_samples|\n",
      "+----------+-------------+\n",
      "|2020-04-01|      11245.0|\n",
      "|2020-04-02|      14906.0|\n",
      "|2020-04-03|      20130.0|\n",
      "|2020-04-04|      10786.0|\n",
      "|2020-04-05|      44139.0|\n",
      "|2020-04-06|      29698.0|\n",
      "|2020-04-07|      76933.0|\n",
      "|2020-04-08|      63058.0|\n",
      "|2020-04-09|     109609.0|\n",
      "|2020-04-10|     155696.0|\n",
      "|2020-04-11|     171571.0|\n",
      "|2020-04-12|     191530.0|\n",
      "|2020-04-13|     210051.0|\n",
      "|2020-04-14|     235088.0|\n",
      "|2020-04-15|     261132.0|\n",
      "|2020-04-16|     299725.0|\n",
      "|2020-04-17|     333455.0|\n",
      "|2020-04-18|     363532.0|\n",
      "|2020-04-19|     423547.0|\n",
      "|2020-04-20|     446947.0|\n",
      "+----------+-------------+\n",
      "only showing top 20 rows"
     ]
    }
   ],
   "source": [
    "from pyspark.sql import SparkSession\n",
    "from pyspark.sql.functions import sum\n",
    "\n",
    "# Create a Spark session\n",
    "spark = SparkSession.builder.appName(\"example\").getOrCreate()\n",
    "\n",
    "# Assuming glue_table is your DynamicFrame for testing_details\n",
    "glue_table = glueContext.create_dynamic_frame.from_catalog(\n",
    "    database=database_name,\n",
    "    table_name=\"testing_details\"\n",
    ")\n",
    "\n",
    "# Convert DynamicFrame to DataFrame\n",
    "testing_details = glue_table.toDF()\n",
    "\n",
    "# Register DataFrame as a temporary view\n",
    "testing_details.createOrReplaceTempView(\"testing_details\")\n",
    "\n",
    "# Query 1: States with the highest positive test rates\n",
    "result3 = spark.sql(\"\"\"\n",
    "    SELECT state, (positive / totalsamples) * 100 AS positive_test_rate\n",
    "    FROM testing_details\n",
    "    ORDER BY positive_test_rate DESC\n",
    "\"\"\")\n",
    "\n",
    "# Query 2: Total samples tested over time\n",
    "result4 = spark.sql(\"\"\"\n",
    "    SELECT date, SUM(totalsamples) AS total_samples\n",
    "    FROM testing_details\n",
    "    GROUP BY date\n",
    "    ORDER BY date\n",
    "\"\"\")\n",
    "\n",
    "result3.show()\n",
    "result4.show()\n"
   ]
  },
  {
   "cell_type": "code",
   "execution_count": 21,
   "id": "2513e028-7082-4710-9b7c-0f46d65c2871",
   "metadata": {},
   "outputs": [
    {
     "data": {
      "application/vnd.jupyter.widget-view+json": {
       "model_id": "",
       "version_major": 2,
       "version_minor": 0
      },
      "text/plain": [
       "FloatProgress(value=0.0, bar_style='info', description='Progress:', layout=Layout(height='25px', width='50%'),…"
      ]
     },
     "metadata": {},
     "output_type": "display_data"
    },
    {
     "name": "stdout",
     "output_type": "stream",
     "text": [
      "+--------------------+---------------------+\n",
      "|state/unionterritory|total_confirmed_cases|\n",
      "+--------------------+---------------------+\n",
      "|         Maharashtra|           1121491467|\n",
      "|           Karnataka|            485970693|\n",
      "|              Kerala|            458906023|\n",
      "|          Tamil Nadu|            431928644|\n",
      "|      Andhra Pradesh|            392432753|\n",
      "|       Uttar Pradesh|            312625843|\n",
      "|               Delhi|            287227765|\n",
      "|         West Bengal|            263107876|\n",
      "|        Chhattisgarh|            163776262|\n",
      "|           Rajasthan|            162369656|\n",
      "|              Odisha|            160130533|\n",
      "|             Gujarat|            143420082|\n",
      "|      Madhya Pradesh|            135625265|\n",
      "|             Haryana|            134347285|\n",
      "|               Bihar|            132231166|\n",
      "|              Punjab|             99949702|\n",
      "|               Assam|             99837011|\n",
      "|           Telengana|             69990668|\n",
      "|           Jharkhand|             62111994|\n",
      "|           Telangana|             60571979|\n",
      "+--------------------+---------------------+\n",
      "only showing top 20 rows\n",
      "\n",
      "+----------+-----------+------------+\n",
      "|      date|total_cured|total_deaths|\n",
      "+----------+-----------+------------+\n",
      "|2020-01-30|          0|           0|\n",
      "|2020-01-31|          0|           0|\n",
      "|2020-02-01|          0|           0|\n",
      "|2020-02-02|          0|           0|\n",
      "|2020-02-03|          0|           0|\n",
      "|2020-02-04|          0|           0|\n",
      "|2020-02-05|          0|           0|\n",
      "|2020-02-06|          0|           0|\n",
      "|2020-02-07|          0|           0|\n",
      "|2020-02-08|          0|           0|\n",
      "|2020-02-09|          0|           0|\n",
      "|2020-02-10|          0|           0|\n",
      "|2020-02-11|          0|           0|\n",
      "|2020-02-12|          0|           0|\n",
      "|2020-02-13|          0|           0|\n",
      "|2020-02-14|          0|           0|\n",
      "|2020-02-15|          0|           0|\n",
      "|2020-02-16|          0|           0|\n",
      "|2020-02-17|          0|           0|\n",
      "|2020-02-18|          0|           0|\n",
      "+----------+-----------+------------+\n",
      "only showing top 20 rows"
     ]
    }
   ],
   "source": [
    "from pyspark.sql import SparkSession\n",
    "from pyspark.sql.functions import sum\n",
    "\n",
    "# Create a Spark session\n",
    "spark = SparkSession.builder.appName(\"example\").getOrCreate()\n",
    "\n",
    "# Assuming glue_table is your DynamicFrame for india_data\n",
    "glue_table = glueContext.create_dynamic_frame.from_catalog(\n",
    "    database=database_name,\n",
    "    table_name=\"india_data\"\n",
    ")\n",
    "\n",
    "# Convert DynamicFrame to DataFrame\n",
    "india_data = glue_table.toDF()\n",
    "\n",
    "# Register DataFrame as a temporary view\n",
    "india_data.createOrReplaceTempView(\"india_data\")\n",
    "\n",
    "# Query 1: Total number of confirmed cases per state\n",
    "result5 = spark.sql(\"\"\"\n",
    "    SELECT `state/unionterritory`, SUM(confirmed) AS total_confirmed_cases\n",
    "    FROM india_data\n",
    "    GROUP BY `state/unionterritory`\n",
    "    ORDER BY total_confirmed_cases DESC\n",
    "\"\"\")\n",
    "\n",
    "# Query 2: Progression of cured and deaths over time\n",
    "result6 = spark.sql(\"\"\"\n",
    "    SELECT date, SUM(cured) AS total_cured, SUM(deaths) AS total_deaths\n",
    "    FROM india_data\n",
    "    GROUP BY date\n",
    "    ORDER BY date\n",
    "\"\"\")\n",
    "\n",
    "result5.show()\n",
    "result6.show()\n"
   ]
  },
  {
   "cell_type": "code",
   "execution_count": 19,
   "id": "f54c719e-e659-4b4c-9a1b-0087680f1aa9",
   "metadata": {},
   "outputs": [
    {
     "data": {
      "application/vnd.jupyter.widget-view+json": {
       "model_id": "cde9a24df0594523a1969a68560f40f1",
       "version_major": 2,
       "version_minor": 0
      },
      "text/plain": [
       "FloatProgress(value=0.0, bar_style='info', description='Progress:', layout=Layout(height='25px', width='50%'),…"
      ]
     },
     "metadata": {},
     "output_type": "display_data"
    },
    {
     "name": "stderr",
     "output_type": "stream",
     "text": [
      "Interrupted by user\n"
     ]
    }
   ],
   "source": [
    "from pyspark.sql import SparkSession\n",
    "from pyspark.sql.functions import sum, desc\n",
    "\n",
    "# Assuming glue_table_vaccine, glue_table_testing, and glue_table_india are your DataFrames for vaccine_data, testing_details, and india_data\n",
    "# glue_table_vaccine.createOrReplaceTempView(\"vaccine_data\")\n",
    "# glue_table_testing.createOrReplaceTempView(\"testing_details\")\n",
    "# glue_table_india.createOrReplaceTempView(\"india_data\")\n",
    "\n",
    "# Query 1: States with the highest vaccination rates and their positive test rates\n",
    "result1 = spark.sql(\"\"\"\n",
    "        SELECT v.`state` AS place,\n",
    "           v.`total doses administered` AS total_doses_administered,\n",
    "           v.`updated on` AS time,\n",
    "           t.`positive`,\n",
    "           i.`confirmed` AS total_confirmed_cases\n",
    "    FROM vaccine_data v\n",
    "    JOIN testing_details t ON v.`state` = t.`state`\n",
    "    JOIN india_data i ON v.`state` = i.`state/unionterritory`\n",
    "    ORDER BY place, time\n",
    "\"\"\")\n",
    "\n",
    "# Query 2: Total samples tested over time\n",
    "result2 = spark.sql(\"\"\"\n",
    "    SELECT t.`date`, SUM(t.`totalsamples`) AS total_samples\n",
    "    FROM testing_details t\n",
    "    GROUP BY t.`date`\n",
    "    ORDER BY t.`date`\n",
    "\"\"\")\n",
    "\n",
    "result1.show()\n",
    "result2.show()\n"
   ]
  },
  {
   "cell_type": "code",
   "execution_count": 11,
   "id": "63b688c6-92d3-41b1-abd6-42595c03f49d",
   "metadata": {},
   "outputs": [
    {
     "data": {
      "application/vnd.jupyter.widget-view+json": {
       "model_id": "",
       "version_major": 2,
       "version_minor": 0
      },
      "text/plain": [
       "FloatProgress(value=0.0, bar_style='info', description='Progress:', layout=Layout(height='25px', width='50%'),…"
      ]
     },
     "metadata": {},
     "output_type": "display_data"
    },
    {
     "name": "stderr",
     "output_type": "stream",
     "text": [
      "An error was encountered:\n",
      "Table or view not found: vaccine_data; line 4 pos 9;\n",
      "'Project ['i.state/unionterritory, ('v.total doses administered / 'i.confirmed) AS vaccination_confirmed_correlation#122]\n",
      "+- 'Join Inner, ('v.state = 'i.state/unionterritory)\n",
      "   :- 'SubqueryAlias v\n",
      "   :  +- 'UnresolvedRelation [vaccine_data], [], false\n",
      "   +- 'SubqueryAlias i\n",
      "      +- 'UnresolvedRelation [india_data], [], false\n",
      "\n",
      "Traceback (most recent call last):\n",
      "  File \"/home/glue_user/spark/python/pyspark/sql/session.py\", line 1034, in sql\n",
      "    return DataFrame(self._jsparkSession.sql(sqlQuery), self)\n",
      "  File \"/home/glue_user/spark/python/lib/py4j-0.10.9.5-src.zip/py4j/java_gateway.py\", line 1321, in __call__\n",
      "    return_value = get_return_value(\n",
      "  File \"/home/glue_user/spark/python/pyspark/sql/utils.py\", line 196, in deco\n",
      "    raise converted from None\n",
      "pyspark.sql.utils.AnalysisException: Table or view not found: vaccine_data; line 4 pos 9;\n",
      "'Project ['i.state/unionterritory, ('v.total doses administered / 'i.confirmed) AS vaccination_confirmed_correlation#122]\n",
      "+- 'Join Inner, ('v.state = 'i.state/unionterritory)\n",
      "   :- 'SubqueryAlias v\n",
      "   :  +- 'UnresolvedRelation [vaccine_data], [], false\n",
      "   +- 'SubqueryAlias i\n",
      "      +- 'UnresolvedRelation [india_data], [], false\n",
      "\n",
      "\n"
     ]
    }
   ],
   "source": [
    "correlation_query = \"\"\"\n",
    "    SELECT i.`state/unionterritory`,\n",
    "           (v.`total doses administered` / i.`confirmed`) AS vaccination_confirmed_correlation\n",
    "    FROM vaccine_data v\n",
    "    JOIN india_data i ON v.`state` = i.`state/unionterritory`\n",
    "\"\"\"\n",
    "\n",
    "# Execute the query\n",
    "correlation_result = spark.sql(correlation_query)\n",
    "\n",
    "# Show the result\n",
    "correlation_result.show()"
   ]
  },
  {
   "cell_type": "code",
   "execution_count": 7,
   "id": "13901d67-556f-43b3-82bd-f1aa499bb642",
   "metadata": {},
   "outputs": [
    {
     "data": {
      "application/vnd.jupyter.widget-view+json": {
       "model_id": "",
       "version_major": 2,
       "version_minor": 0
      },
      "text/plain": [
       "FloatProgress(value=0.0, bar_style='info', description='Progress:', layout=Layout(height='25px', width='50%'),…"
      ]
     },
     "metadata": {},
     "output_type": "display_data"
    }
   ],
   "source": [
    "from pyspark.sql import SparkSession\n",
    "\n",
    "# Create a Spark session\n",
    "spark = SparkSession.builder \\\n",
    "    .appName(\"RedshiftExample\") \\\n",
    "    .config(\"spark.jars\", \"/home/glue_user/redshift-jdbc42-2.1.0.26.jar\") \\\n",
    "    .getOrCreate()\n",
    "\n",
    "# Define your Redshift connection properties\n",
    "redshift_url = \"jdbc:redshift://covid-workgroup.249961799892.ap-south-1.redshift-serverless.amazonaws.com:5439/covid_db\"\n",
    "redshift_properties = {\n",
    "    \"user\": \"admin\",\n",
    "    \"password\": \"M3ss1G0at101234\",\n",
    "    \"driver\": \"com.amazon.redshift.Driver\"\n",
    "}\n",
    "\n",
    "table_name = \"sample_data_dev.tickit.sales\"\n",
    "\n",
    "\n",
    "# Read data from Redshift\n",
    "# df = spark.read \\\n",
    "#     .jdbc(url=redshift_url, table=\"sample_data_dev.tickit.sales\", properties=redshift_properties) \\\n",
    "#     .option(\"tempdir\", \"s3://covid-data-16091988/temp\") \\\n",
    "#     .option(\"forward_spark_s3_credentials\", \"true\") \\\n",
    "#     .option(\"numPartitions\", \"8\") \\\n",
    "#     .option(\"aws_iam_role\", \"arn:aws:iam::249961799892:role/aws_glue_job_runner\") \\\n",
    "\n",
    "# # Show the DataFrame\n",
    "# df.show()\n"
   ]
  },
  {
   "cell_type": "code",
   "execution_count": 10,
   "id": "649dd45a-c4cb-4fab-afad-3f30812c16b4",
   "metadata": {},
   "outputs": [
    {
     "data": {
      "application/vnd.jupyter.widget-view+json": {
       "model_id": "",
       "version_major": 2,
       "version_minor": 0
      },
      "text/plain": [
       "FloatProgress(value=0.0, bar_style='info', description='Progress:', layout=Layout(height='25px', width='50%'),…"
      ]
     },
     "metadata": {},
     "output_type": "display_data"
    },
    {
     "name": "stdout",
     "output_type": "stream",
     "text": [
      "+-------+------+--------+-------+-------+------+-------+---------+----------+-------------------+\n",
      "|salesid|listid|sellerid|buyerid|eventid|dateid|qtysold|pricepaid|commission|           saletime|\n",
      "+-------+------+--------+-------+-------+------+-------+---------+----------+-------------------+\n",
      "|   5152|  5534|   17090|   1424|   1963|  1830|      4|   856.00|    128.40|2008-01-04 09:58:29|\n",
      "| 137183|158459|    4413|    817|   3709|  1830|      4|   824.00|    123.60|2008-01-04 03:56:29|\n",
      "| 137181|158459|    4413|   2356|   3709|  1832|      2|   412.00|     61.80|2008-01-06 03:53:11|\n",
      "| 166701|224432|   10376|   5354|   5465|  1833|      4|  7844.00|   1176.60|2008-01-07 05:01:44|\n",
      "|   1226|  1288|   22585|   4289|   3189|  1834|      3|   180.00|     27.00|2008-01-08 03:13:48|\n",
      "|   5151|  5534|   17090|   4624|   1963|  1834|      1|   214.00|     32.10|2008-01-08 09:57:39|\n",
      "|  39735| 44358|   13345|   1129|   3906|  1835|      1|   276.00|     41.40|2008-01-09 06:15:47|\n",
      "| 115647|132408|    7705|   1737|     31|  1835|      2|   798.00|    119.70|2008-01-09 08:35:49|\n",
      "|  60774| 68838|   24037|   7228|   6570|  1837|      1|   247.00|     37.05|2008-01-11 03:25:04|\n",
      "|  13390| 14502|   18165|   4397|   2285|  1838|      2|   240.00|     36.00|2008-01-12 10:55:10|\n",
      "| 160045|211915|   19921|   4550|   3117|  1838|      1|  1972.00|    295.80|2008-01-12 10:00:32|\n",
      "|  94319|107688|    3734|    341|   1640|  1840|      4|   304.00|     45.60|2008-01-14 02:50:45|\n",
      "| 166700|224432|   10376|  11323|   5465|  1840|      2|  3922.00|    588.30|2008-01-14 05:00:05|\n",
      "|  27581| 30086|   11279|   9771|   2922|  1842|      3|   699.00|    104.85|2008-01-16 01:11:09|\n",
      "| 152266|176211|   37468|   7601|   3383|  1842|      3|   996.00|    149.40|2008-01-16 06:24:20|\n",
      "| 157062|205638|   30024|   6550|   3797|  1842|      3|  5643.00|    846.45|2008-01-16 12:09:59|\n",
      "| 148667|172215|   18996|  12616|   3925|  1844|      1|   474.00|     71.10|2008-01-18 06:35:00|\n",
      "| 156649|181372|   27889|   2223|   5456|  1844|      1|   156.00|     23.40|2008-01-18 04:31:13|\n",
      "|  37096| 41310|   35209|  10218|     73|  1846|      4|  1180.00|    177.00|2008-01-20 02:54:14|\n",
      "| 125103|143252|   12436|   6016|   7942|  1846|      2|   268.00|     40.20|2008-01-20 01:36:40|\n",
      "+-------+------+--------+-------+-------+------+-------+---------+----------+-------------------+\n",
      "only showing top 20 rows"
     ]
    }
   ],
   "source": [
    "# Read data from Redshift table into a DataFrame\n",
    "df = spark.read \\\n",
    "    .format(\"jdbc\") \\\n",
    "    .option(\"url\", redshift_url) \\\n",
    "    .option(\"dbtable\", table_name) \\\n",
    "    .option(\"user\", redshift_properties[\"user\"]) \\\n",
    "    .option(\"password\", redshift_properties[\"password\"]) \\\n",
    "    .option(\"driver\", redshift_properties[\"driver\"]) \\\n",
    "    .load()\n",
    "\n",
    "df.show()"
   ]
  }
 ],
 "metadata": {
  "kernelspec": {
   "display_name": "PySpark",
   "language": "python",
   "name": "pysparkkernel"
  },
  "language_info": {
   "codemirror_mode": {
    "name": "python",
    "version": 3
   },
   "file_extension": ".py",
   "mimetype": "text/x-python",
   "name": "pyspark",
   "pygments_lexer": "python3"
  }
 },
 "nbformat": 4,
 "nbformat_minor": 5
}
