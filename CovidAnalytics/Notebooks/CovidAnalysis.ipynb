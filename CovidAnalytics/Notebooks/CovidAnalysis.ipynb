{
 "cells": [
  {
   "cell_type": "code",
   "execution_count": 7,
   "id": "31129682-e575-408e-b7ac-1043fa81d59f",
   "metadata": {},
   "outputs": [
    {
     "data": {
      "application/vnd.jupyter.widget-view+json": {
       "model_id": "",
       "version_major": 2,
       "version_minor": 0
      },
      "text/plain": [
       "FloatProgress(value=0.0, bar_style='info', description='Progress:', layout=Layout(height='25px', width='50%'),…"
      ]
     },
     "metadata": {},
     "output_type": "display_data"
    }
   ],
   "source": [
    "import boto3, json\n",
    "from awsglue.context import GlueContext\n",
    "from pyspark.context import SparkContext\n",
    "import boto3\n",
    "import json\n",
    "from datetime import datetime, date"
   ]
  },
  {
   "cell_type": "code",
   "execution_count": 5,
   "id": "9b541064-157e-4d8c-bc3a-1554967f32ca",
   "metadata": {},
   "outputs": [
    {
     "data": {
      "application/vnd.jupyter.widget-view+json": {
       "model_id": "",
       "version_major": 2,
       "version_minor": 0
      },
      "text/plain": [
       "FloatProgress(value=0.0, bar_style='info', description='Progress:', layout=Layout(height='25px', width='50%'),…"
      ]
     },
     "metadata": {},
     "output_type": "display_data"
    },
    {
     "name": "stdout",
     "output_type": "stream",
     "text": [
      "{'ResponseMetadata': {'RequestId': '7XBF80TVTHB0Q674', 'HostId': 'f3HBntULFhV5nPT3W3Y2a0eEkutq3MYRI4Gw6Ik9TPmjMfeAop64kaKV32DJyZjxcvu2X9ZZE30=', 'HTTPStatusCode': 200, 'HTTPHeaders': {'x-amz-id-2': 'f3HBntULFhV5nPT3W3Y2a0eEkutq3MYRI4Gw6Ik9TPmjMfeAop64kaKV32DJyZjxcvu2X9ZZE30=', 'x-amz-request-id': '7XBF80TVTHB0Q674', 'date': 'Mon, 19 Feb 2024 11:34:42 GMT', 'content-type': 'application/xml', 'transfer-encoding': 'chunked', 'server': 'AmazonS3'}, 'RetryAttempts': 0}, 'Buckets': [{'Name': 'covid-data-16091988', 'CreationDate': datetime.datetime(2024, 2, 16, 9, 38, 7, tzinfo=tzlocal())}, {'Name': 'kishore-data-uploads', 'CreationDate': datetime.datetime(2024, 2, 12, 14, 57, 14, tzinfo=tzlocal())}, {'Name': 'kishore-test-160988', 'CreationDate': datetime.datetime(2024, 1, 31, 9, 46, 13, tzinfo=tzlocal())}], 'Owner': {'ID': '6dcb533b7d7e2e1d4e611a97a8818f3867795983c9cc37f3240ef02817c74ace'}}"
     ]
    }
   ],
   "source": [
    "# # Create GlueContext and SparkContext\n",
    "# sc = SparkContext()\n",
    "# glueContext = GlueContext(sc)\n",
    "\n",
    "# # Create a Boto3 S3 client\n",
    "s3_client = boto3.client('s3')\n",
    "\n",
    "# # Get the list of all S3 buckets\n",
    "response = s3_client.list_buckets()\n",
    "print(response)\n",
    "# buckets = [bucket['Name'] for bucket in response['Buckets']]\n",
    "\n",
    "# # Print the list of buckets\n",
    "# print(\"List of S3 Buckets:\")\n",
    "# for bucket in buckets:\n",
    "#     print(bucket)"
   ]
  },
  {
   "cell_type": "code",
   "execution_count": 12,
   "id": "049739c2-a5c8-4429-a50e-b4d8f27329b3",
   "metadata": {},
   "outputs": [
    {
     "data": {
      "application/vnd.jupyter.widget-view+json": {
       "model_id": "",
       "version_major": 2,
       "version_minor": 0
      },
      "text/plain": [
       "FloatProgress(value=0.0, bar_style='info', description='Progress:', layout=Layout(height='25px', width='50%'),…"
      ]
     },
     "metadata": {},
     "output_type": "display_data"
    },
    {
     "name": "stdout",
     "output_type": "stream",
     "text": [
      "[\n",
      "  {\n",
      "    \"Key\": \"csv/india-data/covid_19_india.csv\",\n",
      "    \"LastModified\": \"2024-02-16 12:05:30\",\n",
      "    \"Size\": 1005449,\n",
      "    \"StorageClass\": \"STANDARD\"\n",
      "  },\n",
      "  {\n",
      "    \"Key\": \"csv/testing-details/StatewiseTestingDetails.csv\",\n",
      "    \"LastModified\": \"2024-02-16 09:41:28\",\n",
      "    \"Size\": 622938,\n",
      "    \"StorageClass\": \"STANDARD\"\n",
      "  },\n",
      "  {\n",
      "    \"Key\": \"csv/vaccine-data/covid_vaccine_statewise.csv\",\n",
      "    \"LastModified\": \"2024-02-16 09:43:02\",\n",
      "    \"Size\": 1108819,\n",
      "    \"StorageClass\": \"STANDARD\"\n",
      "  },\n",
      "  {\n",
      "    \"Key\": \"glue/scripts/CovidDataProcessing.py\",\n",
      "    \"LastModified\": \"2024-02-16 15:23:46\",\n",
      "    \"Size\": 1162,\n",
      "    \"StorageClass\": \"STANDARD\"\n",
      "  }\n",
      "]"
     ]
    }
   ],
   "source": [
    "import boto3\n",
    "import json\n",
    "from datetime import datetime\n",
    "\n",
    "# Replace 'your-bucket-name' with the actual name of your S3 bucket\n",
    "bucket_name = 'your-bucket-name'\n",
    "\n",
    "# Create a Boto3 S3 client\n",
    "s3_client = boto3.client('s3')\n",
    "\n",
    "# List objects in the bucket\n",
    "response = s3_client.list_objects_v2(Bucket='covid-data-16091988')\n",
    "\n",
    "# Extract relevant information and format the output JSON\n",
    "files_list = []\n",
    "for obj in response.get('Contents', []):\n",
    "    file_info = {\n",
    "        'Key': obj['Key'],\n",
    "        'LastModified': obj['LastModified'].strftime('%Y-%m-%d %H:%M:%S'),\n",
    "        'Size': obj['Size'],\n",
    "        'StorageClass': obj['StorageClass']\n",
    "    }\n",
    "    files_list.append(file_info)\n",
    "\n",
    "# Create a JSON object with timestamp formatting\n",
    "formatted_json = json.dumps(files_list, indent=2)\n",
    "\n",
    "# Print the formatted JSON\n",
    "print(formatted_json)\n"
   ]
  },
  {
   "cell_type": "code",
   "execution_count": 16,
   "id": "1aaae846-266c-42a7-8dda-257b0c9acb15",
   "metadata": {},
   "outputs": [
    {
     "data": {
      "application/vnd.jupyter.widget-view+json": {
       "model_id": "",
       "version_major": 2,
       "version_minor": 0
      },
      "text/plain": [
       "FloatProgress(value=0.0, bar_style='info', description='Progress:', layout=Layout(height='25px', width='50%'),…"
      ]
     },
     "metadata": {},
     "output_type": "display_data"
    },
    {
     "name": "stdout",
     "output_type": "stream",
     "text": [
      "Raw Response:\n",
      "{\n",
      "  \"ResponseMetadata\": {\n",
      "    \"RequestId\": \"VD9XFZHED3ZZ0V5Q\",\n",
      "    \"HostId\": \"XDwyS7cYfsbIbOrpCT7aJokeTrcJvBAy+edANWm7EK8iLV7gh86PP2AryyecAhMz/m7czpHDsIw=\",\n",
      "    \"HTTPStatusCode\": 200,\n",
      "    \"HTTPHeaders\": {\n",
      "      \"x-amz-id-2\": \"XDwyS7cYfsbIbOrpCT7aJokeTrcJvBAy+edANWm7EK8iLV7gh86PP2AryyecAhMz/m7czpHDsIw=\",\n",
      "      \"x-amz-request-id\": \"VD9XFZHED3ZZ0V5Q\",\n",
      "      \"date\": \"Mon, 19 Feb 2024 11:53:29 GMT\",\n",
      "      \"x-amz-bucket-region\": \"ap-south-1\",\n",
      "      \"content-type\": \"application/xml\",\n",
      "      \"transfer-encoding\": \"chunked\",\n",
      "      \"server\": \"AmazonS3\"\n",
      "    },\n",
      "    \"RetryAttempts\": 0\n",
      "  },\n",
      "  \"IsTruncated\": false,\n",
      "  \"Contents\": [\n",
      "    {\n",
      "      \"Key\": \"csv/india-data/covid_19_india.csv\",\n",
      "      \"LastModified\": \"2024-02-16T12:05:30+00:00\",\n",
      "      \"ETag\": \"\\\"c1dd1766111d18f4bea869b7d926805b\\\"\",\n",
      "      \"Size\": 1005449,\n",
      "      \"StorageClass\": \"STANDARD\"\n",
      "    },\n",
      "    {\n",
      "      \"Key\": \"csv/testing-details/StatewiseTestingDetails.csv\",\n",
      "      \"LastModified\": \"2024-02-16T09:41:28+00:00\",\n",
      "      \"ETag\": \"\\\"7c9e108cf41b550aa451504d69b27fb2\\\"\",\n",
      "      \"Size\": 622938,\n",
      "      \"StorageClass\": \"STANDARD\"\n",
      "    },\n",
      "    {\n",
      "      \"Key\": \"csv/vaccine-data/covid_vaccine_statewise.csv\",\n",
      "      \"LastModified\": \"2024-02-16T09:43:02+00:00\",\n",
      "      \"ETag\": \"\\\"41badbdb48df31e60735117dd0cc4bb5\\\"\",\n",
      "      \"Size\": 1108819,\n",
      "      \"StorageClass\": \"STANDARD\"\n",
      "    },\n",
      "    {\n",
      "      \"Key\": \"glue/scripts/CovidDataProcessing.py\",\n",
      "      \"LastModified\": \"2024-02-16T15:23:46+00:00\",\n",
      "      \"ETag\": \"\\\"0d245cfa486774f46be52b6f0d5a9c3e\\\"\",\n",
      "      \"Size\": 1162,\n",
      "      \"StorageClass\": \"STANDARD\"\n",
      "    }\n",
      "  ],\n",
      "  \"Name\": \"covid-data-16091988\",\n",
      "  \"Prefix\": \"\",\n",
      "  \"MaxKeys\": 1000,\n",
      "  \"EncodingType\": \"url\",\n",
      "  \"KeyCount\": 4\n",
      "}\n",
      "\n",
      "Formatted JSON:\n",
      "[\n",
      "  {\n",
      "    \"Key\": \"csv/india-data/covid_19_india.csv\",\n",
      "    \"LastModified\": \"2024-02-16T12:05:30+00:00\",\n",
      "    \"Size\": 1005449,\n",
      "    \"StorageClass\": \"STANDARD\"\n",
      "  },\n",
      "  {\n",
      "    \"Key\": \"csv/testing-details/StatewiseTestingDetails.csv\",\n",
      "    \"LastModified\": \"2024-02-16T09:41:28+00:00\",\n",
      "    \"Size\": 622938,\n",
      "    \"StorageClass\": \"STANDARD\"\n",
      "  },\n",
      "  {\n",
      "    \"Key\": \"csv/vaccine-data/covid_vaccine_statewise.csv\",\n",
      "    \"LastModified\": \"2024-02-16T09:43:02+00:00\",\n",
      "    \"Size\": 1108819,\n",
      "    \"StorageClass\": \"STANDARD\"\n",
      "  },\n",
      "  {\n",
      "    \"Key\": \"glue/scripts/CovidDataProcessing.py\",\n",
      "    \"LastModified\": \"2024-02-16T15:23:46+00:00\",\n",
      "    \"Size\": 1162,\n",
      "    \"StorageClass\": \"STANDARD\"\n",
      "  }\n",
      "]"
     ]
    }
   ],
   "source": [
    "import boto3\n",
    "import json\n",
    "from datetime import datetime, date\n",
    "\n",
    "# Custom JSON encoder to handle datetime objects\n",
    "class DateTimeEncoder(json.JSONEncoder):\n",
    "    def default(self, obj):\n",
    "        if isinstance(obj, (datetime, date)):\n",
    "            return obj.isoformat()\n",
    "        return super().default(obj)\n",
    "\n",
    "# Replace 'your-bucket-name' with the actual name of your S3 bucket\n",
    "bucket_name = 'your-bucket-name'\n",
    "\n",
    "# Create a Boto3 S3 client\n",
    "s3_client = boto3.client('s3')\n",
    "\n",
    "# List objects in the bucket\n",
    "response = s3_client.list_objects_v2(Bucket='covid-data-16091988')\n",
    "\n",
    "# Print the raw response in a formatted way\n",
    "print(\"Raw Response:\")\n",
    "print(json.dumps(response, indent=2, cls=DateTimeEncoder))\n",
    "\n",
    "# Extract relevant information and format the output JSON\n",
    "files_list = []\n",
    "for obj in response.get('Contents', []):\n",
    "    file_info = {\n",
    "        'Key': obj['Key'],\n",
    "        'LastModified': obj['LastModified'],\n",
    "        'Size': obj['Size'],\n",
    "        'StorageClass': obj['StorageClass']\n",
    "    }\n",
    "    files_list.append(file_info)\n",
    "\n",
    "# Create a JSON object with timestamp formatting\n",
    "formatted_json = json.dumps(files_list, indent=2, cls=DateTimeEncoder)\n",
    "\n",
    "# Print the formatted JSON\n",
    "print(\"\\nFormatted JSON:\")\n",
    "print(formatted_json)\n"
   ]
  },
  {
   "cell_type": "code",
   "execution_count": 50,
   "id": "eafff838-9834-4e6c-9e64-2d650f72dd6f",
   "metadata": {},
   "outputs": [
    {
     "data": {
      "application/vnd.jupyter.widget-view+json": {
       "model_id": "",
       "version_major": 2,
       "version_minor": 0
      },
      "text/plain": [
       "FloatProgress(value=0.0, bar_style='info', description='Progress:', layout=Layout(height='25px', width='50%'),…"
      ]
     },
     "metadata": {},
     "output_type": "display_data"
    },
    {
     "name": "stdout",
     "output_type": "stream",
     "text": [
      "[{'Key': 'csv/india-data/covid_19_india.csv', 'LastModified': datetime.datetime(2024, 2, 16, 12, 5, 30, tzinfo=tzlocal()), 'ETag': '\"c1dd1766111d18f4bea869b7d926805b\"', 'Size': 1005449, 'StorageClass': 'STANDARD'}, {'Key': 'csv/testing-details/StatewiseTestingDetails.csv', 'LastModified': datetime.datetime(2024, 2, 16, 9, 41, 28, tzinfo=tzlocal()), 'ETag': '\"7c9e108cf41b550aa451504d69b27fb2\"', 'Size': 622938, 'StorageClass': 'STANDARD'}, {'Key': 'csv/vaccine-data/covid_vaccine_statewise.csv', 'LastModified': datetime.datetime(2024, 2, 16, 9, 43, 2, tzinfo=tzlocal()), 'ETag': '\"41badbdb48df31e60735117dd0cc4bb5\"', 'Size': 1108819, 'StorageClass': 'STANDARD'}, {'Key': 'glue/scripts/CovidDataProcessing.py', 'LastModified': datetime.datetime(2024, 2, 16, 15, 23, 46, tzinfo=tzlocal()), 'ETag': '\"0d245cfa486774f46be52b6f0d5a9c3e\"', 'Size': 1162, 'StorageClass': 'STANDARD'}]"
     ]
    }
   ],
   "source": [
    "# Test to understand json and dict data functions\n",
    "\n",
    "class DateTimeEncoder(json.JSONEncoder):\n",
    "    def default(self, obj):\n",
    "        if isinstance(obj, (datetime, date)):\n",
    "            return obj.isoformat()\n",
    "        return super().default(obj)\n",
    "    \n",
    "# print (json.dumps(response.get('Contents', []), indent=2,cls=DateTimeEncode))\n",
    "\n",
    "# print(response.get('Contents', []))\n",
    "\n",
    "# print(response.get('Name', []))\n",
    "contents_list = response.get('Contents', [])\n",
    "print(response['Contents'])\n",
    "# print(contents_list[1])\n",
    "# print(contents_list[1].get('Key'))\n",
    "\n",
    "# for obj in response.get('Contents', []):\n",
    "#     print (obj)\n",
    "#     print (obj['Key'])\n",
    "                    \n",
    "\n",
    "# print(\"Raw Response:\")\n",
    "# print(json.dumps(response, indent=2, cls=DateTimeEncoder))\n",
    "\n",
    "# # Extract relevant information and format the output JSON\n",
    "# files_list = []\n",
    "# for obj in response.get('Contents', []):\n",
    "#     file_info = {\n",
    "#         'Key': obj['Key'],\n",
    "#         'LastModified': obj['LastModified'],\n",
    "#         'Size': obj['Size'],\n",
    "#         'StorageClass': obj['StorageClass']\n",
    "#     }\n",
    "#     files_list.append(file_info)\n",
    "\n",
    "# # Create a JSON object with timestamp formatting\n",
    "# formatted_json = json.dumps(files_list, indent=2, cls=DateTimeEncoder)\n"
   ]
  },
  {
   "cell_type": "code",
   "execution_count": 9,
   "id": "d9d25322-7a78-45bf-b2f2-0ba1ec71680d",
   "metadata": {},
   "outputs": [
    {
     "data": {
      "application/vnd.jupyter.widget-view+json": {
       "model_id": "",
       "version_major": 2,
       "version_minor": 0
      },
      "text/plain": [
       "FloatProgress(value=0.0, bar_style='info', description='Progress:', layout=Layout(height='25px', width='50%'),…"
      ]
     },
     "metadata": {},
     "output_type": "display_data"
    },
    {
     "name": "stdout",
     "output_type": "stream",
     "text": [
      "List of Glue Crawlers:\n",
      "{\n",
      "  \"Crawlers\": [\n",
      "    {\n",
      "      \"Name\": \"vaccine_detl_crawler\",\n",
      "      \"Role\": \"aws_glue_job_runner\",\n",
      "      \"Targets\": {\n",
      "        \"S3Targets\": [\n",
      "          {\n",
      "            \"Path\": \"s3://covid-data-16091988/csv/vaccine-data\",\n",
      "            \"Exclusions\": []\n",
      "          }\n",
      "        ],\n",
      "        \"JdbcTargets\": [],\n",
      "        \"MongoDBTargets\": [],\n",
      "        \"DynamoDBTargets\": [],\n",
      "        \"CatalogTargets\": [],\n",
      "        \"DeltaTargets\": []\n",
      "      },\n",
      "      \"DatabaseName\": \"covid_db\",\n",
      "      \"Classifiers\": [],\n",
      "      \"RecrawlPolicy\": {\n",
      "        \"RecrawlBehavior\": \"CRAWL_EVERYTHING\"\n",
      "      },\n",
      "      \"SchemaChangePolicy\": {\n",
      "        \"UpdateBehavior\": \"UPDATE_IN_DATABASE\",\n",
      "        \"DeleteBehavior\": \"DEPRECATE_IN_DATABASE\"\n",
      "      },\n",
      "      \"LineageConfiguration\": {\n",
      "        \"CrawlerLineageSettings\": \"DISABLE\"\n",
      "      },\n",
      "      \"State\": \"READY\",\n",
      "      \"CrawlElapsedTime\": 0,\n",
      "      \"CreationTime\": \"2024-02-19T15:03:05+00:00\",\n",
      "      \"LastUpdated\": \"2024-02-19T15:03:05+00:00\",\n",
      "      \"Version\": 1,\n",
      "      \"LakeFormationConfiguration\": {\n",
      "        \"UseLakeFormationCredentials\": false,\n",
      "        \"AccountId\": \"\"\n",
      "      }\n",
      "    }\n",
      "  ],\n",
      "  \"ResponseMetadata\": {\n",
      "    \"RequestId\": \"ac3db2a2-92ca-4c63-87ff-e55bf05abafa\",\n",
      "    \"HTTPStatusCode\": 200,\n",
      "    \"HTTPHeaders\": {\n",
      "      \"date\": \"Mon, 19 Feb 2024 15:14:56 GMT\",\n",
      "      \"content-type\": \"application/x-amz-json-1.1\",\n",
      "      \"content-length\": \"814\",\n",
      "      \"connection\": \"keep-alive\",\n",
      "      \"x-amzn-requestid\": \"ac3db2a2-92ca-4c63-87ff-e55bf05abafa\"\n",
      "    },\n",
      "    \"RetryAttempts\": 0\n",
      "  }\n",
      "}"
     ]
    }
   ],
   "source": [
    "import boto3,json\n",
    "\n",
    "class DateTimeEncoder(json.JSONEncoder):\n",
    "    def default(self, obj):\n",
    "        if isinstance(obj, (datetime, date)):\n",
    "            return obj.isoformat()\n",
    "        return super().default(obj)\n",
    "\n",
    "# Create a Glue client\n",
    "glue_client = boto3.client('glue')\n",
    "\n",
    "# Get the list of crawlers\n",
    "response = glue_client.get_crawlers()\n",
    "\n",
    "# Extract and print crawler names\n",
    "crawlers = response['Crawlers']\n",
    "crawler_names = [crawler['Name'] for crawler in crawlers]\n",
    "\n",
    "print(\"List of Glue Crawlers:\")\n",
    "# for name in crawler_names:\n",
    "#     print(name)\n",
    "print(json.dumps(response, indent=2, cls=DateTimeEncoder))"
   ]
  },
  {
   "cell_type": "code",
   "execution_count": 8,
   "id": "4bec7afc-b916-4c94-9430-d0ac8350f76d",
   "metadata": {},
   "outputs": [
    {
     "data": {
      "application/vnd.jupyter.widget-view+json": {
       "model_id": "",
       "version_major": 2,
       "version_minor": 0
      },
      "text/plain": [
       "FloatProgress(value=0.0, bar_style='info', description='Progress:', layout=Layout(height='25px', width='50%'),…"
      ]
     },
     "metadata": {},
     "output_type": "display_data"
    },
    {
     "name": "stdout",
     "output_type": "stream",
     "text": [
      "+----------+-----+------------------------+--------+-------+-----------------------+------------------------+----------------------------+-------------------------------+----------------------------+------------------------------+-----------------------------------+----------------------------+----+-----------------------------------+-----------------------------------+---------------------------------+------------------------------+-------------------------+---------------------------+--------------------------------+--------------------------------+--------------------------------+------------------------------+\n",
      "|updated on|state|total doses administered|sessions|  sites|first dose administered|second dose administered|covaxin (doses administered)|covishield (doses administered)|male(individuals vaccinated)|female(individuals vaccinated)|transgender(individuals vaccinated)|total individuals vaccinated|aefi|18-44 years(individuals vaccinated)|45-60 years(individuals vaccinated)|60+ years(individuals vaccinated)|sputnik v (doses administered)|male (doses administered)|female (doses administered)|transgender (doses administered)|18-44 years (doses administered)|45-60 years (doses administered)|60+ years (doses administered)|\n",
      "+----------+-----+------------------------+--------+-------+-----------------------+------------------------+----------------------------+-------------------------------+----------------------------+------------------------------+-----------------------------------+----------------------------+----+-----------------------------------+-----------------------------------+---------------------------------+------------------------------+-------------------------+---------------------------+--------------------------------+--------------------------------+--------------------------------+------------------------------+\n",
      "|16/01/2021|India|                 48276.0|  3455.0| 2957.0|                48276.0|                     0.0|                       579.0|                        47697.0|                     23757.0|                       24517.0|                                2.0|                     48276.0|null|                               null|                               null|                             null|                          null|                     null|                       null|                            null|                            null|                            null|                          null|\n",
      "|17/01/2021|India|                 58604.0|  8532.0| 4954.0|                58604.0|                     0.0|                       635.0|                        57969.0|                     27348.0|                       31252.0|                                4.0|                     58604.0|null|                               null|                               null|                             null|                          null|                     null|                       null|                            null|                            null|                            null|                          null|\n",
      "|18/01/2021|India|                 99449.0| 13611.0| 6583.0|                99449.0|                     0.0|                      1299.0|                        98150.0|                     41361.0|                       58083.0|                                5.0|                     99449.0|null|                               null|                               null|                             null|                          null|                     null|                       null|                            null|                            null|                            null|                          null|\n",
      "|19/01/2021|India|                195525.0| 17855.0| 7951.0|               195525.0|                     0.0|                      3017.0|                       192508.0|                     81901.0|                      113613.0|                               11.0|                    195525.0|null|                               null|                               null|                             null|                          null|                     null|                       null|                            null|                            null|                            null|                          null|\n",
      "|20/01/2021|India|                251280.0| 25472.0|10504.0|               251280.0|                     0.0|                      3946.0|                       247334.0|                     98111.0|                      153145.0|                               24.0|                    251280.0|null|                               null|                               null|                             null|                          null|                     null|                       null|                            null|                            null|                            null|                          null|\n",
      "|21/01/2021|India|                365965.0| 32226.0|12600.0|               365965.0|                     0.0|                      5367.0|                       360598.0|                    132784.0|                      233143.0|                               38.0|                    365965.0|null|                               null|                               null|                             null|                          null|                     null|                       null|                            null|                            null|                            null|                          null|\n",
      "|22/01/2021|India|                549381.0| 36988.0|14115.0|               549381.0|                     0.0|                      8128.0|                       541253.0|                    193899.0|                      355402.0|                               80.0|                    549381.0|null|                               null|                               null|                             null|                          null|                     null|                       null|                            null|                            null|                            null|                          null|\n",
      "|23/01/2021|India|                759008.0| 43076.0|15605.0|               759008.0|                     0.0|                     11192.0|                       747816.0|                    267856.0|                      491049.0|                              103.0|                    759008.0|null|                               null|                               null|                             null|                          null|                     null|                       null|                            null|                            null|                            null|                          null|\n",
      "|24/01/2021|India|                835058.0| 49851.0|18111.0|               835058.0|                     0.0|                     13156.0|                       821902.0|                    296283.0|                      538647.0|                              128.0|                    835058.0|null|                               null|                               null|                             null|                          null|                     null|                       null|                            null|                            null|                            null|                          null|\n",
      "|25/01/2021|India|               1277104.0| 55151.0|19682.0|              1277104.0|                     0.0|                     18858.0|                      1258246.0|                    444137.0|                      832766.0|                              201.0|                   1277104.0|null|                               null|                               null|                             null|                          null|                     null|                       null|                            null|                            null|                            null|                          null|\n",
      "+----------+-----+------------------------+--------+-------+-----------------------+------------------------+----------------------------+-------------------------------+----------------------------+------------------------------+-----------------------------------+----------------------------+----+-----------------------------------+-----------------------------------+---------------------------------+------------------------------+-------------------------+---------------------------+--------------------------------+--------------------------------+--------------------------------+------------------------------+\n",
      "only showing top 10 rows"
     ]
    }
   ],
   "source": [
    "from pyspark.context import SparkContext\n",
    "from awsglue.context import GlueContext\n",
    "from pyspark.sql import SparkSession\n",
    "\n",
    "# Initialize the Spark and Glue contexts\n",
    "# sc = SparkContext()\n",
    "glueContext = GlueContext(spark)\n",
    "# spark = glueContext.spark_session\n",
    "\n",
    "# Specify the Glue Catalog database and table\n",
    "database_name = \"covid_db\"\n",
    "table_name = \"vaccine_data\"\n",
    "\n",
    "# Create a DynamicFrame representing the Glue Catalog table\n",
    "dynamic_frame = glueContext.create_dynamic_frame.from_catalog(database=database_name, table_name=table_name)\n",
    "\n",
    "# Convert DynamicFrame to DataFrame\n",
    "data_frame = dynamic_frame.toDF()\n",
    "\n",
    "# Display the first 10 records\n",
    "data_frame.show(10)\n"
   ]
  }
 ],
 "metadata": {
  "kernelspec": {
   "display_name": "PySpark",
   "language": "python",
   "name": "pysparkkernel"
  },
  "language_info": {
   "codemirror_mode": {
    "name": "python",
    "version": 3
   },
   "file_extension": ".py",
   "mimetype": "text/x-python",
   "name": "pyspark",
   "pygments_lexer": "python3"
  }
 },
 "nbformat": 4,
 "nbformat_minor": 5
}
