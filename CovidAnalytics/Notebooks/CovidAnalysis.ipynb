{
 "cells": [
  {
   "cell_type": "code",
   "execution_count": 6,
   "id": "31129682-e575-408e-b7ac-1043fa81d59f",
   "metadata": {},
   "outputs": [
    {
     "data": {
      "application/vnd.jupyter.widget-view+json": {
       "model_id": "",
       "version_major": 2,
       "version_minor": 0
      },
      "text/plain": [
       "FloatProgress(value=0.0, bar_style='info', description='Progress:', layout=Layout(height='25px', width='50%'),…"
      ]
     },
     "metadata": {},
     "output_type": "display_data"
    }
   ],
   "source": [
    "import boto3, json\n",
    "from awsglue.context import GlueContext\n",
    "from pyspark.context import SparkContext\n",
    "\n",
    "\n"
   ]
  },
  {
   "cell_type": "code",
   "execution_count": null,
   "id": "9298a65d-d1fd-4bdf-96aa-fb8214a3189a",
   "metadata": {},
   "outputs": [],
   "source": [
    "response.json(add"
   ]
  },
  {
   "cell_type": "code",
   "execution_count": 5,
   "id": "9b541064-157e-4d8c-bc3a-1554967f32ca",
   "metadata": {},
   "outputs": [
    {
     "data": {
      "application/vnd.jupyter.widget-view+json": {
       "model_id": "",
       "version_major": 2,
       "version_minor": 0
      },
      "text/plain": [
       "FloatProgress(value=0.0, bar_style='info', description='Progress:', layout=Layout(height='25px', width='50%'),…"
      ]
     },
     "metadata": {},
     "output_type": "display_data"
    },
    {
     "name": "stdout",
     "output_type": "stream",
     "text": [
      "{'ResponseMetadata': {'RequestId': '7XBF80TVTHB0Q674', 'HostId': 'f3HBntULFhV5nPT3W3Y2a0eEkutq3MYRI4Gw6Ik9TPmjMfeAop64kaKV32DJyZjxcvu2X9ZZE30=', 'HTTPStatusCode': 200, 'HTTPHeaders': {'x-amz-id-2': 'f3HBntULFhV5nPT3W3Y2a0eEkutq3MYRI4Gw6Ik9TPmjMfeAop64kaKV32DJyZjxcvu2X9ZZE30=', 'x-amz-request-id': '7XBF80TVTHB0Q674', 'date': 'Mon, 19 Feb 2024 11:34:42 GMT', 'content-type': 'application/xml', 'transfer-encoding': 'chunked', 'server': 'AmazonS3'}, 'RetryAttempts': 0}, 'Buckets': [{'Name': 'covid-data-16091988', 'CreationDate': datetime.datetime(2024, 2, 16, 9, 38, 7, tzinfo=tzlocal())}, {'Name': 'kishore-data-uploads', 'CreationDate': datetime.datetime(2024, 2, 12, 14, 57, 14, tzinfo=tzlocal())}, {'Name': 'kishore-test-160988', 'CreationDate': datetime.datetime(2024, 1, 31, 9, 46, 13, tzinfo=tzlocal())}], 'Owner': {'ID': '6dcb533b7d7e2e1d4e611a97a8818f3867795983c9cc37f3240ef02817c74ace'}}"
     ]
    }
   ],
   "source": [
    "# # Create GlueContext and SparkContext\n",
    "# sc = SparkContext()\n",
    "# glueContext = GlueContext(sc)\n",
    "\n",
    "# # Create a Boto3 S3 client\n",
    "s3_client = boto3.client('s3')\n",
    "\n",
    "# # Get the list of all S3 buckets\n",
    "response = s3_client.list_buckets()\n",
    "print(response)\n",
    "# buckets = [bucket['Name'] for bucket in response['Buckets']]\n",
    "\n",
    "# # Print the list of buckets\n",
    "# print(\"List of S3 Buckets:\")\n",
    "# for bucket in buckets:\n",
    "#     print(bucket)"
   ]
  },
  {
   "cell_type": "code",
   "execution_count": 12,
   "id": "049739c2-a5c8-4429-a50e-b4d8f27329b3",
   "metadata": {},
   "outputs": [
    {
     "data": {
      "application/vnd.jupyter.widget-view+json": {
       "model_id": "",
       "version_major": 2,
       "version_minor": 0
      },
      "text/plain": [
       "FloatProgress(value=0.0, bar_style='info', description='Progress:', layout=Layout(height='25px', width='50%'),…"
      ]
     },
     "metadata": {},
     "output_type": "display_data"
    },
    {
     "name": "stdout",
     "output_type": "stream",
     "text": [
      "[\n",
      "  {\n",
      "    \"Key\": \"csv/india-data/covid_19_india.csv\",\n",
      "    \"LastModified\": \"2024-02-16 12:05:30\",\n",
      "    \"Size\": 1005449,\n",
      "    \"StorageClass\": \"STANDARD\"\n",
      "  },\n",
      "  {\n",
      "    \"Key\": \"csv/testing-details/StatewiseTestingDetails.csv\",\n",
      "    \"LastModified\": \"2024-02-16 09:41:28\",\n",
      "    \"Size\": 622938,\n",
      "    \"StorageClass\": \"STANDARD\"\n",
      "  },\n",
      "  {\n",
      "    \"Key\": \"csv/vaccine-data/covid_vaccine_statewise.csv\",\n",
      "    \"LastModified\": \"2024-02-16 09:43:02\",\n",
      "    \"Size\": 1108819,\n",
      "    \"StorageClass\": \"STANDARD\"\n",
      "  },\n",
      "  {\n",
      "    \"Key\": \"glue/scripts/CovidDataProcessing.py\",\n",
      "    \"LastModified\": \"2024-02-16 15:23:46\",\n",
      "    \"Size\": 1162,\n",
      "    \"StorageClass\": \"STANDARD\"\n",
      "  }\n",
      "]"
     ]
    }
   ],
   "source": [
    "import boto3\n",
    "import json\n",
    "from datetime import datetime\n",
    "\n",
    "# Replace 'your-bucket-name' with the actual name of your S3 bucket\n",
    "bucket_name = 'your-bucket-name'\n",
    "\n",
    "# Create a Boto3 S3 client\n",
    "s3_client = boto3.client('s3')\n",
    "\n",
    "# List objects in the bucket\n",
    "response = s3_client.list_objects_v2(Bucket='covid-data-16091988')\n",
    "\n",
    "# Extract relevant information and format the output JSON\n",
    "files_list = []\n",
    "for obj in response.get('Contents', []):\n",
    "    file_info = {\n",
    "        'Key': obj['Key'],\n",
    "        'LastModified': obj['LastModified'].strftime('%Y-%m-%d %H:%M:%S'),\n",
    "        'Size': obj['Size'],\n",
    "        'StorageClass': obj['StorageClass']\n",
    "    }\n",
    "    files_list.append(file_info)\n",
    "\n",
    "# Create a JSON object with timestamp formatting\n",
    "formatted_json = json.dumps(files_list, indent=2)\n",
    "\n",
    "# Print the formatted JSON\n",
    "print(formatted_json)\n"
   ]
  },
  {
   "cell_type": "code",
   "execution_count": 16,
   "id": "1aaae846-266c-42a7-8dda-257b0c9acb15",
   "metadata": {},
   "outputs": [
    {
     "data": {
      "application/vnd.jupyter.widget-view+json": {
       "model_id": "",
       "version_major": 2,
       "version_minor": 0
      },
      "text/plain": [
       "FloatProgress(value=0.0, bar_style='info', description='Progress:', layout=Layout(height='25px', width='50%'),…"
      ]
     },
     "metadata": {},
     "output_type": "display_data"
    },
    {
     "name": "stdout",
     "output_type": "stream",
     "text": [
      "Raw Response:\n",
      "{\n",
      "  \"ResponseMetadata\": {\n",
      "    \"RequestId\": \"VD9XFZHED3ZZ0V5Q\",\n",
      "    \"HostId\": \"XDwyS7cYfsbIbOrpCT7aJokeTrcJvBAy+edANWm7EK8iLV7gh86PP2AryyecAhMz/m7czpHDsIw=\",\n",
      "    \"HTTPStatusCode\": 200,\n",
      "    \"HTTPHeaders\": {\n",
      "      \"x-amz-id-2\": \"XDwyS7cYfsbIbOrpCT7aJokeTrcJvBAy+edANWm7EK8iLV7gh86PP2AryyecAhMz/m7czpHDsIw=\",\n",
      "      \"x-amz-request-id\": \"VD9XFZHED3ZZ0V5Q\",\n",
      "      \"date\": \"Mon, 19 Feb 2024 11:53:29 GMT\",\n",
      "      \"x-amz-bucket-region\": \"ap-south-1\",\n",
      "      \"content-type\": \"application/xml\",\n",
      "      \"transfer-encoding\": \"chunked\",\n",
      "      \"server\": \"AmazonS3\"\n",
      "    },\n",
      "    \"RetryAttempts\": 0\n",
      "  },\n",
      "  \"IsTruncated\": false,\n",
      "  \"Contents\": [\n",
      "    {\n",
      "      \"Key\": \"csv/india-data/covid_19_india.csv\",\n",
      "      \"LastModified\": \"2024-02-16T12:05:30+00:00\",\n",
      "      \"ETag\": \"\\\"c1dd1766111d18f4bea869b7d926805b\\\"\",\n",
      "      \"Size\": 1005449,\n",
      "      \"StorageClass\": \"STANDARD\"\n",
      "    },\n",
      "    {\n",
      "      \"Key\": \"csv/testing-details/StatewiseTestingDetails.csv\",\n",
      "      \"LastModified\": \"2024-02-16T09:41:28+00:00\",\n",
      "      \"ETag\": \"\\\"7c9e108cf41b550aa451504d69b27fb2\\\"\",\n",
      "      \"Size\": 622938,\n",
      "      \"StorageClass\": \"STANDARD\"\n",
      "    },\n",
      "    {\n",
      "      \"Key\": \"csv/vaccine-data/covid_vaccine_statewise.csv\",\n",
      "      \"LastModified\": \"2024-02-16T09:43:02+00:00\",\n",
      "      \"ETag\": \"\\\"41badbdb48df31e60735117dd0cc4bb5\\\"\",\n",
      "      \"Size\": 1108819,\n",
      "      \"StorageClass\": \"STANDARD\"\n",
      "    },\n",
      "    {\n",
      "      \"Key\": \"glue/scripts/CovidDataProcessing.py\",\n",
      "      \"LastModified\": \"2024-02-16T15:23:46+00:00\",\n",
      "      \"ETag\": \"\\\"0d245cfa486774f46be52b6f0d5a9c3e\\\"\",\n",
      "      \"Size\": 1162,\n",
      "      \"StorageClass\": \"STANDARD\"\n",
      "    }\n",
      "  ],\n",
      "  \"Name\": \"covid-data-16091988\",\n",
      "  \"Prefix\": \"\",\n",
      "  \"MaxKeys\": 1000,\n",
      "  \"EncodingType\": \"url\",\n",
      "  \"KeyCount\": 4\n",
      "}\n",
      "\n",
      "Formatted JSON:\n",
      "[\n",
      "  {\n",
      "    \"Key\": \"csv/india-data/covid_19_india.csv\",\n",
      "    \"LastModified\": \"2024-02-16T12:05:30+00:00\",\n",
      "    \"Size\": 1005449,\n",
      "    \"StorageClass\": \"STANDARD\"\n",
      "  },\n",
      "  {\n",
      "    \"Key\": \"csv/testing-details/StatewiseTestingDetails.csv\",\n",
      "    \"LastModified\": \"2024-02-16T09:41:28+00:00\",\n",
      "    \"Size\": 622938,\n",
      "    \"StorageClass\": \"STANDARD\"\n",
      "  },\n",
      "  {\n",
      "    \"Key\": \"csv/vaccine-data/covid_vaccine_statewise.csv\",\n",
      "    \"LastModified\": \"2024-02-16T09:43:02+00:00\",\n",
      "    \"Size\": 1108819,\n",
      "    \"StorageClass\": \"STANDARD\"\n",
      "  },\n",
      "  {\n",
      "    \"Key\": \"glue/scripts/CovidDataProcessing.py\",\n",
      "    \"LastModified\": \"2024-02-16T15:23:46+00:00\",\n",
      "    \"Size\": 1162,\n",
      "    \"StorageClass\": \"STANDARD\"\n",
      "  }\n",
      "]"
     ]
    }
   ],
   "source": [
    "import boto3\n",
    "import json\n",
    "from datetime import datetime, date\n",
    "\n",
    "# Custom JSON encoder to handle datetime objects\n",
    "class DateTimeEncoder(json.JSONEncoder):\n",
    "    def default(self, obj):\n",
    "        if isinstance(obj, (datetime, date)):\n",
    "            return obj.isoformat()\n",
    "        return super().default(obj)\n",
    "\n",
    "# Replace 'your-bucket-name' with the actual name of your S3 bucket\n",
    "bucket_name = 'your-bucket-name'\n",
    "\n",
    "# Create a Boto3 S3 client\n",
    "s3_client = boto3.client('s3')\n",
    "\n",
    "# List objects in the bucket\n",
    "response = s3_client.list_objects_v2(Bucket='covid-data-16091988')\n",
    "\n",
    "# Print the raw response in a formatted way\n",
    "print(\"Raw Response:\")\n",
    "print(json.dumps(response, indent=2, cls=DateTimeEncoder))\n",
    "\n",
    "# Extract relevant information and format the output JSON\n",
    "files_list = []\n",
    "for obj in response.get('Contents', []):\n",
    "    file_info = {\n",
    "        'Key': obj['Key'],\n",
    "        'LastModified': obj['LastModified'],\n",
    "        'Size': obj['Size'],\n",
    "        'StorageClass': obj['StorageClass']\n",
    "    }\n",
    "    files_list.append(file_info)\n",
    "\n",
    "# Create a JSON object with timestamp formatting\n",
    "formatted_json = json.dumps(files_list, indent=2, cls=DateTimeEncoder)\n",
    "\n",
    "# Print the formatted JSON\n",
    "print(\"\\nFormatted JSON:\")\n",
    "print(formatted_json)\n"
   ]
  }
 ],
 "metadata": {
  "kernelspec": {
   "display_name": "PySpark",
   "language": "python",
   "name": "pysparkkernel"
  },
  "language_info": {
   "codemirror_mode": {
    "name": "python",
    "version": 3
   },
   "file_extension": ".py",
   "mimetype": "text/x-python",
   "name": "pyspark",
   "pygments_lexer": "python3"
  }
 },
 "nbformat": 4,
 "nbformat_minor": 5
}
